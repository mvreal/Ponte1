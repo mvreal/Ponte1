{
 "cells": [
  {
   "cell_type": "markdown",
   "id": "1dc445f3-8f0f-41b7-a0fa-541467a1d3db",
   "metadata": {
    "id": "1dc445f3-8f0f-41b7-a0fa-541467a1d3db"
   },
   "source": [
    "### Universidade Federal do Rio Grande - FURG"
   ]
  },
  {
   "cell_type": "markdown",
   "id": "27d28d81-ad30-4559-b52d-0fee9ac96cae",
   "metadata": {
    "id": "27d28d81-ad30-4559-b52d-0fee9ac96cae"
   },
   "source": [
    "### Escola de Engenharia - EE"
   ]
  },
  {
   "cell_type": "markdown",
   "id": "103a5401-6849-4ee0-a254-08a7f684a870",
   "metadata": {
    "id": "103a5401-6849-4ee0-a254-08a7f684a870"
   },
   "source": [
    "### Curso de Graduação em Engenharia Civil - EC"
   ]
  },
  {
   "cell_type": "markdown",
   "id": "547b79f5-d7a3-4b02-8ce9-7c1647bff36b",
   "metadata": {
    "id": "547b79f5-d7a3-4b02-8ce9-7c1647bff36b"
   },
   "source": [
    "### Disciplina: Pontes - 04314"
   ]
  },
  {
   "cell_type": "markdown",
   "id": "189e93bb-f3e5-4536-9aec-d09046d6929b",
   "metadata": {
    "id": "189e93bb-f3e5-4536-9aec-d09046d6929b"
   },
   "source": [
    "### Professor: Dr. Mauro de Vasconcellos Real"
   ]
  },
  {
   "cell_type": "markdown",
   "id": "9187878f-2f69-43a6-9e66-d91991265288",
   "metadata": {},
   "source": [
    "# __Aula 01__"
   ]
  },
  {
   "cell_type": "markdown",
   "id": "ce78f794-4773-4210-bf0c-d89fd0e707f7",
   "metadata": {
    "id": "ce78f794-4773-4210-bf0c-d89fd0e707f7"
   },
   "source": [
    "# __Capítulo 5 - Infraestrutura da Pontes__ <a name=\"section_5\"></a>"
   ]
  },
  {
   "cell_type": "markdown",
   "id": "a8a51f34",
   "metadata": {},
   "source": [
    "## 5.6 - Cálculo dos esforços horizontais de uma ponte rodoviária de estrado contínuo"
   ]
  },
  {
   "cell_type": "markdown",
   "id": "157432c3-c6ac-4105-b5b2-45e3ad381233",
   "metadata": {
    "id": "157432c3-c6ac-4105-b5b2-45e3ad381233"
   },
   "source": [
    "### 5.6.1 Introdução"
   ]
  },
  {
   "cell_type": "markdown",
   "id": "2c6d70ab",
   "metadata": {},
   "source": [
    "* Seja uma ponte rodoviária mostrada na Figura 5.6.1, cujos pilares são apoiados em tubulões a ar comprimido. A geometria da ponte foi extraída de PFEIL (1983).\n",
    "* Os pilares formam uma estrutura aporticada contínua, parcialmente enterrada.\n",
    "* Consideraremos neste trabalho os pilares como engastados na seção de transição do pilar para o tubulão\n",
    "\n",
    "Figura 5.6.1 - Desenhos da ponte do exemplo de cálculo:(a) elevação, (b) planta baixa, (c) seção transversal\n",
    "\n",
    "<img src=\"./images/plantas_da_ponte.jpg\" alt=\"Desenhos da ponte do exemplo de cálculo\" style=\"width:900px\"/>\n",
    "\n",
    "<img src=\"./images/seção_transversal.jpg\" alt=\"Seção transversal da ponte do exemplo de cálculo\" style=\"width:600px\"/>\n",
    "\n",
    "<font size=\"-1\">Fonte: PFEIL. Pontes em concreto armado. 3ª ed. Rio de Janeiro, LTC, 1983. 2 volumes (adaptada)</font>\n"
   ]
  },
  {
   "cell_type": "markdown",
   "id": "5b50e58c",
   "metadata": {},
   "source": [
    "### 5.6.2 - Força longitudinal devido à frenagem e aceleração."
   ]
  },
  {
   "cell_type": "markdown",
   "id": "f73cd49d",
   "metadata": {},
   "source": [
    "* Sendo a ponte do exemplo uma ponte rodoviária de classe I, com pista de rolamento de $12,20m$ de largura, o carregamento total do estrado com carga uniformemente distribuída faz-se, de acordo com a NBR-7188:2024, admitindo uma faixa de $12,20m$ de largura, carregada com $5,0kN/m^2$.\n",
    "* De acordo com a NBR-7188:2024, o veículo-tipo para pontes rodoviárias de classe TR-45 é constituído por um caminhão com peso de $450kN$."
   ]
  },
  {
   "cell_type": "markdown",
   "id": "b013f8b8",
   "metadata": {},
   "source": [
    "* O valor para a força longitudinal de frenagem, de acordo com o item 5.2.1 da norma NBR-7188:2024, será dado por:\n",
    "\n",
    "* $H_{fr} = 0,05 \\times p \\times B \\times L  \\times CNF$, sendo $H_{fr} \\ge 0,30 \\times (6P)$\n",
    "\n",
    "* Onde $p = 5 kN/m^2$ é a carga de multidão, $ P = 75 kN$ é o peso por roda do veículo tipo, $B$ é a largura do tabuleiro da ponte, $L$ é comprimento do tabuleiro da ponte e $CNF$ é o coeficiente de número de faixas, no caso igual a $1,00$\n",
    "\n",
    "* Para a ponte do exemplo de cálculo:"
   ]
  },
  {
   "cell_type": "code",
   "execution_count": 1,
   "id": "106157e9",
   "metadata": {},
   "outputs": [
    {
     "name": "stdout",
     "output_type": "stream",
     "text": [
      "Força de frenagem = 228.75 kN\n"
     ]
    }
   ],
   "source": [
    "# Cálculo da força de frenagem na ponte\n",
    "\n",
    "carga_distribuida = 5.00  # kN/m2\n",
    "carga_concentrada = 75.00  # kN\n",
    "comprimento_ponte = 75.00  # m\n",
    "largura_ponte = 12.20  # m\n",
    "coeficiente_numero_faixas = 1.00\n",
    "\n",
    "forca_frenagem = 0.05 * carga_distribuida * largura_ponte * comprimento_ponte * coeficiente_numero_faixas\n",
    "forca_frenagem_minima = 0.30 * (6 * carga_concentrada)\n",
    "\n",
    "if forca_frenagem < forca_frenagem_minima:\n",
    "    forca_frenagem = forca_frenagem_minima\n",
    "\n",
    "print(f\"Força de frenagem = {forca_frenagem:.2f} kN\")\n"
   ]
  },
  {
   "cell_type": "markdown",
   "id": "152cc7e7",
   "metadata": {},
   "source": [
    "### 5.6.3 - Esforços devidos ao vento"
   ]
  },
  {
   "cell_type": "markdown",
   "id": "6966e46f",
   "metadata": {},
   "source": [
    "* A norma NBR-6123:2023 em seu Capítulo 11 trata da ação do vento em pontes."
   ]
  },
  {
   "cell_type": "markdown",
   "id": "8469a699",
   "metadata": {},
   "source": [
    "#### Ação do vento no sentido transversal ao tabuleiro"
   ]
  },
  {
   "cell_type": "markdown",
   "id": "6c4c4a6c",
   "metadata": {},
   "source": [
    "* A componente $F_x$ da força estática de vento na direção $x$, corresponde à força de arrasto no caso do vento com ângulo de ataque $\\alpha = 0^{\\circ}$ (ou de incidência) na direção transversal ao eixo do tabuleiro (ver Figura 5.6.2).\n",
    "\n",
    "Figura 5.6.2 - Ação do vento sobre um tabuleiro de ponte, segundo a NBR-6123:2023\n",
    "\n",
    "<img src=\"./images/vento1.jpg\" alt=\"Ação do vento sobre uma ponte - 1\" style=\"width:600px\"/>\n",
    "\n",
    "<font size=\"-1\">Fonte: ABNT. NBR 6123:2023: Forças devidas ao vento em edificações. Rio de Janeiro, 2023. (adaptada)</font>\n",
    "\n",
    "A componente $F_x$ por unidade de comprimento do tabuleiro é calculada pela seguinte equação:\n",
    "\n",
    "$$ F_x = \\frac{1}{2} \\rho v_k^2 (\\bar{z}) B C_x $$\n",
    "\n",
    "onde:\n",
    "\n",
    "$\\rho$ é a massa específica do ar de referência, igual a $1,226 kg/m^3$.\n",
    "\n",
    "$B$  é a largura do tabuleiro;\n",
    "\n",
    "$v_k (\\bar{z})$ é a velocidade característica do vento incidente, no nível $z = \\bar{z}$ do tabuleiro com referência \n",
    "à superfície do terreno ou da lâmina d’água ($z = 0$), calculada com $S_3$ do Grupo 1 da Tabela 4;\n",
    "\n",
    "$C_x$ é o coeficiente de força na direção $x$, igual ao coeficiente de arrasto $C_a$ para o ângulo de ataque $\\alpha = 0^{\\circ}$.\n",
    "\n",
    "* Para estruturas de tabuleiros de pontes, o coeficiente de força $C_x$ pode ser calculado pela seguinte equação:\n",
    "\n",
    "$$ C_x = 0,21 + 1,9304 \\left(\\frac{B}{H_{eq}}\\right)^{-1,279} $$\n",
    "\n",
    "onde:\n",
    "\n",
    "$H_{eq}$ é a altura equivalente do tabuleiro, associada à área exposta ao vento e definida como a soma das áreas das faces a barlavento dos componentes da estrutura, por unidade de comprimento. No caso de ponte carregada considera-se uma altura de veículo $H_v = 2,0 m$ acima do nível do pavimento.\n"
   ]
  },
  {
   "cell_type": "markdown",
   "id": "0cedcba0",
   "metadata": {},
   "source": [
    "#### Cálculos para a ponte do exemplo"
   ]
  },
  {
   "cell_type": "markdown",
   "id": "1e1d9ff8",
   "metadata": {},
   "source": [
    "* Em primeiro lugar é definida uma velocidade básica do vento igual a $v_0 = 40 m/s$.\n",
    "\n",
    "* Considerando-se que a ponte se encontra em terreno plano, adota-se o fator $S_1 = 1,00$.\n",
    "\n",
    "* A ponte esta situada em uma zona rural de Categoria III.\n",
    "\n",
    "* Como a maior dimensão da ponte é igual a $75 m$, é considerada como uma edificação da Classe C.\n",
    "\n",
    "* A parte inferior das vigas esta a $10,00 m$ acima da lâmina d'água. A algura da viga mais o pavimento é igual a $2,35 m$. A altura do veículo é tomada como igual $2,00m$ acima do pavimento. Então a altura do centroide da área de exposição ao vento será igual a $\\bar{z}=12,175m$, sendo $H_eq = 4,35 m$, considerando a ponte carregada.\n",
    "\n",
    "* O fator $S_2$ será dado pela equação:\n",
    "\n",
    "$$ S_2 = b_m F_r \\left(\\frac{z}{10}\\right)^p $$\n",
    "\n",
    "* Segundo a  Tabela 1, para Categoria III e Classe C, tem-se que $b_m = 0,93$ e $p = 0,115$.\n",
    "\n",
    "* Na Tabela 2, para a Classe C, encontra-se $F_r = 0,95$\n",
    "\n",
    "* Segundo a Tabela 4, tem-se que $S_3 = 1,11$\n",
    "\n",
    "* Assim, resulta que: "
   ]
  },
  {
   "cell_type": "code",
   "execution_count": 2,
   "id": "f520a399",
   "metadata": {},
   "outputs": [
    {
     "name": "stdout",
     "output_type": "stream",
     "text": [
      "Velocidade básica do vento = 40.00 m/s\n",
      "S1 = 1.00\n",
      "S2 = 0.90\n",
      "S3 = 1.11\n",
      "Velocidade caracteristica = 40.13 m/s\n",
      "Cx = 0.6859\n",
      "Força x = 8.80 kN/m\n",
      "Força transversal do vento (Hwt) = 660.06 kN\n"
     ]
    }
   ],
   "source": [
    "# Cálculo da força transversal do vento Hwt\n",
    "\n",
    "velocidade_basica_vento = 40  # m/s\n",
    "S1 = 1.00\n",
    "bm = 0.93\n",
    "Fr = 0.95\n",
    "p = 0.115\n",
    "altura_referencia = 12.175  # m\n",
    "S2 = bm * Fr * (altura_referencia / 10) ** p\n",
    "S3 = 1.11\n",
    "largura_ponte = 13.00  # m\n",
    "altura_equivalente = 4.35  # m\n",
    "comprimento_ponte = 75.00  # m\n",
    "densidade_ar = 1.226  # kg/m3\n",
    "\n",
    "velocidade_caracteristica = S1 * S2 * S3 * velocidade_basica_vento\n",
    "Cx = 0.21 + 1.9304 * (largura_ponte / altura_equivalente) ** (-1.279)\n",
    "Forca_x = 0.5 * densidade_ar * velocidade_caracteristica ** 2 * largura_ponte * Cx / 1000  # kN/m\n",
    "Hwt = Forca_x * comprimento_ponte  # kN\n",
    "\n",
    "print(f\"Velocidade básica do vento = {velocidade_basica_vento:.2f} m/s\")\n",
    "print(f\"S1 = {S1:.2f}\")\n",
    "print(f\"S2 = {S2:.2f}\")\n",
    "print(f\"S3 = {S3:.2f}\")\n",
    "print(f\"Velocidade caracteristica = {velocidade_caracteristica:.2f} m/s\")\n",
    "print(f\"Cx = {Cx:.4f}\")\n",
    "print(f\"Força x = {Forca_x:.2f} kN/m\")\n",
    "print(f\"Força transversal do vento (Hwt) = {Hwt:.2f} kN\")"
   ]
  },
  {
   "cell_type": "markdown",
   "id": "7890105f",
   "metadata": {},
   "source": [
    "#### Ação do vento no sentido longitudinal do tabuleiro"
   ]
  },
  {
   "cell_type": "markdown",
   "id": "a629f787",
   "metadata": {},
   "source": [
    "* Em seu item 11.3.4, a norma NBR-6123:2023, recomenda, para um tabuleiro de seção com faces sólidas, adotar para $F_y$ um valor igual a $25\\%$ da força $F_x$.\n",
    "\n",
    "* Então a ação longitudinal do vento sobre a ponte, $H_{wl}$, será dada por:\n",
    "\n",
    "$$ H_{wl} = 0,25 \\times F_x \\times L_p $$"
   ]
  },
  {
   "cell_type": "code",
   "execution_count": 3,
   "id": "98cf41ba",
   "metadata": {},
   "outputs": [
    {
     "name": "stdout",
     "output_type": "stream",
     "text": [
      "Componente longitudinal do vento Hwl = 165.01 kN\n"
     ]
    }
   ],
   "source": [
    "# Cálculo da componente longitudinal da ação do vento\n",
    "\n",
    "Hwl = 0.25 * Forca_x * comprimento_ponte\n",
    "print(f\"Componente longitudinal do vento Hwl = {Hwl:.2f} kN\")"
   ]
  },
  {
   "cell_type": "markdown",
   "id": "11f81d42",
   "metadata": {},
   "source": [
    "### 5.6.4 - Esforços devidos ao empuxo nas cortinas"
   ]
  },
  {
   "cell_type": "markdown",
   "id": "bcee72ed",
   "metadata": {},
   "source": [
    "* Na ponte do exemplo, as cortinas dos extremos em balanço têm $13,00m$ de largura e $2,25m$ de altura, o empuxo de terra sobre as mesmas, de acordo com a Teoria de Rankine, será:\n",
    "\n",
    "$$ E = \\frac{1}{2} p_{max} b h = \\frac{1}{2} k_a \\gamma b_c h^2 $$\n",
    "\n",
    "$p_{max}$ é a pressão máxima exercida pelo o empuxo;\n",
    "\n",
    "$k_a$ é o coeficiente de empuxo ativo, adotado como igual a $1/3$\n",
    "\n",
    "$\\gamma$ é o peso específico do solo, adotado como igual a $18 kN/m^2$;\n",
    "\n",
    "$b_c$ é a largura da cortina de extremidade igual a $13 m$;\n",
    "\n",
    "$h$ é a altura da cortina de extremidade igual a $2,25 m$. "
   ]
  },
  {
   "cell_type": "markdown",
   "id": "7b797ab7",
   "metadata": {},
   "source": [
    "* Além do empuxo causado diretamente pelo aterro, tem-se a ação do empuxo diferencial, provocado pela presença da carga móvel sobre o aterro, conforme ilustrado pela Figura 5.6.3.\n",
    "\n",
    "Figura 5.6.3 - Empuxo diferencial provocado pela ação da carga móvel sobre o aterro.\n",
    "\n",
    "<img src=\"./images/empuxo_cortinas.jpg\" alt=\"Empuxo sobre as cortinas de extremidade da ponte\" style=\"width:600px\"/>\n",
    "\n",
    "<font size=\"-1\">Fonte: PFEIL. Pontes em concreto armado. 3ª ed. Rio de Janeiro, LTC, 1983. 2 volumes (adaptada)</font>\n",
    "\n",
    "* Admitindo a carga móvel distribuída atuando numa largura de $12,00m$, obtem-se para o empuxo diferencial causado pela carga móvel $E_d$:\n",
    "\n",
    "$$E_d = k_a q b_p h $$\n",
    "\n",
    "onde:\n",
    "\n",
    "$q$ é a carga de multidão aplicada sobre a pista de rolamento;\n",
    "\n",
    "$b_p$ é a largura da pista de rolamento tomada como igual a $12 m$.\n",
    "\n",
    "Assim resulta que:"
   ]
  },
  {
   "cell_type": "code",
   "execution_count": 4,
   "id": "b9ededf6",
   "metadata": {},
   "outputs": [
    {
     "name": "stdout",
     "output_type": "stream",
     "text": [
      "Força de empuxo na cortina de extremidade (E) = 197.44 kN\n",
      "Força diferencial da carga móvel (Ed) = 45.00 kN\n"
     ]
    }
   ],
   "source": [
    "# Cálculo das forças devidas ao empuxo de terra nas cortinas de extremidade\n",
    "\n",
    "coeficiente_ativo = 1.0 / 3.0\n",
    "peso_especifico_solo = 18.00  # kN/m3\n",
    "largura_cortina = 13.00  # m\n",
    "altura_cortina = 2.25  # m\n",
    "carga_multidao = 5.00  # kN/m2\n",
    "base_cortina = 12.00  # m\n",
    "\n",
    "forca_empuxo = 0.5 * coeficiente_ativo * peso_especifico_solo * largura_cortina * altura_cortina**2\n",
    "empuxo_diferencial = coeficiente_ativo * carga_multidao * base_cortina * altura_cortina\n",
    "\n",
    "print(f\"Força de empuxo na cortina de extremidade (E) = {forca_empuxo:.2f} kN\")\n",
    "print(f\"Força diferencial da carga móvel (Ed) = {empuxo_diferencial:.2f} kN\")"
   ]
  },
  {
   "cell_type": "markdown",
   "id": "84834b06",
   "metadata": {},
   "source": [
    "### 5.6.5 - Distribuição entre os pilares dos esforços longitudinais que atuam no estrado"
   ]
  },
  {
   "cell_type": "markdown",
   "id": "8d78a762",
   "metadata": {},
   "source": [
    "* Os esforços longitudinais que atuam no estrado da ponte em estudo são resumidos na Tabela 5.6.1:"
   ]
  },
  {
   "cell_type": "code",
   "execution_count": 5,
   "id": "5adef871",
   "metadata": {},
   "outputs": [
    {
     "name": "stdout",
     "output_type": "stream",
     "text": [
      "Tabela 5.6.1 - Esforços longitudinais no estrado da ponte\n",
      "Força                    Valor (kN)\n",
      "-----------------------------------\n",
      "Frenagem                  228.75\n",
      "Empuxo diferencial         45.00\n",
      "Vento longitudinal        165.01\n",
      "Total                     438.76\n"
     ]
    }
   ],
   "source": [
    "# Tabela com as forças longitudinais na ponte\n",
    "\n",
    "# Definindo as forças\n",
    "\n",
    "forca_empuxo_diferencial = empuxo_diferencial\n",
    "forca_vento_longitudinal = Hwl\n",
    "forca_total = forca_frenagem + forca_empuxo_diferencial + forca_vento_longitudinal\n",
    "\n",
    "# Imprimindo o cabeçalho\n",
    "print(\"Tabela 5.6.1 - Esforços longitudinais no estrado da ponte\")\n",
    "print(\"Força                    Valor (kN)\")\n",
    "print(\"-\" * 35)  # Linha separadora\n",
    "\n",
    "# Imprimindo os valores\n",
    "for forca, valor in [(\"Frenagem\", forca_frenagem),\n",
    "                     (\"Empuxo diferencial\", forca_empuxo_diferencial),\n",
    "                     (\"Vento longitudinal\", forca_vento_longitudinal),\n",
    "                     (\"Total\", forca_total)]:\n",
    "    print(f\"{forca:20}  {valor:10.2f}\")"
   ]
  },
  {
   "cell_type": "markdown",
   "id": "243bdfd5",
   "metadata": {},
   "source": [
    "* O esforço longitudinal total distribui-se pelos pilares da ponte na proporção de suas respectivas rigidezes, que são obtidas pela rigidez dos fustes dos pilares.\n",
    "* Para o módulo de elasticidade do concreto adota-se o valor $E_c = 21.000 MPa = 21\\times 10^6 kN/m^2$. \n",
    "* Os pilares P2 e P3 possuem seção circular com $1,00m$ de diâmetro. Logo seu momento de inércia será dado por:\n",
    "\n",
    "$$ I_c = \\frac{\\pi \\times d^4}{64} $$\n",
    "\n",
    "* Para os pilares P2 e P3 (com rótulas de concreto), obtemos, por fuste de pilar:\n",
    "\n",
    "$$ k_2 = \\frac{ 3E_c I_c}{L^3} $$\n",
    "\n",
    "$$ k_3 = \\frac{ 3E_c I_c}{L^3} $$\n"
   ]
  },
  {
   "cell_type": "markdown",
   "id": "13ce98a1",
   "metadata": {},
   "source": [
    "onde $L$ é a altura do pilar."
   ]
  },
  {
   "cell_type": "markdown",
   "id": "9f9ebee0",
   "metadata": {},
   "source": [
    "* Os pilares P1 e P4 tem apoios de neoprene fretados com lâminas de aço.\n",
    "\n",
    "* A flexibilidade $\\delta_n$ do aparelho de neoprene será dada por:\n",
    "\n",
    "$$ \\delta_n = \\frac{h_n}{G_n A_n} $$\n",
    "\n",
    "onde:\n",
    "$h_n$ é a espessura do aparelho de apoio;\n",
    "$G_n$ é o módulo de elasticidade transversal do neoprene;\n",
    "$A_n$ é a área do aparelho de apoio.\n",
    "\n",
    "* A flexibilidade $\\delta_p$ de um pilar de comprimento $L$ é dada por:\n",
    "\n",
    "$$\\delta_p = \\frac{L^3}{E_c I_c}$$\n",
    "\n",
    "* Então, a rigidez de um pilar que possui um aparelho de apoio de neoprene será dada por:\n",
    "\n",
    "$$ k = \\frac{1}{\\delta_n + \\delta_p} = \\frac{1}{\\frac{h_n}{G_n A_n} + \\frac{L^3}{E_c I_c}}$$\n",
    "\n",
    "* O módulo de elasticidade transversal do neoprene vale $G_n = 1,00 MPa = 1.000 kN/m^2$.\n",
    "* As dimensões externas do aparelho de apoio, mostrado na Figura 5.6.4, incorporam 3 mm de camada de proteção das chapas de fretagem. \n",
    "\n",
    "Figura 5.6.4 - Aparelho de neoprene dos pilares P1 e P4.\n",
    "\n",
    "<img src=\"./images/aparelho_neoprene.jpg\" alt=\"Aparelho de apoio de neoprene\" style=\"width:300px\"/>\n",
    "\n",
    "<font size=\"-1\">Fonte: PFEIL. Pontes em concreto armado. 3ª ed. Rio de Janeiro, LTC, 1983. 2 volumes (adaptada)</font>\n",
    "\n",
    "* Utilizando as dimensões líquidas de neoprene obtêm-se os seguintes valores para rigidez dos pilares da ponte, que estão mostrados na Tabela 5.6.2:"
   ]
  },
  {
   "cell_type": "code",
   "execution_count": 6,
   "id": "f3ac3c94",
   "metadata": {},
   "outputs": [
    {
     "name": "stdout",
     "output_type": "stream",
     "text": [
      "Tabela 5.6.2 - Rigidezes dos pilares da ponte\n",
      "Pilar    L(m)   kp(kN/m)   kn(kN/m)    k(kN/m)\n",
      "-----------------------------------------------\n",
      "P1       8.00    6040.05    9089.17    3628.68\n",
      "P2      10.00    3092.51       0.00    3092.51\n",
      "P3       8.00    6040.05       0.00    6040.05\n",
      "P4       5.00   24740.04    9089.17    6647.11\n"
     ]
    }
   ],
   "source": [
    "# Cálculo da rigidez à flexão dos pilares\n",
    "\n",
    "import numpy as np\n",
    "import pandas as pd\n",
    "\n",
    "kp = np.zeros(4)\n",
    "kn = np.zeros(4)\n",
    "k = np.zeros(4)\n",
    "\n",
    "# Constantes\n",
    "Ec = 21e6  # kN/m2\n",
    "Gn = 1000.0  # kN/m2\n",
    "d = 1.0  # m\n",
    "L = np.array([8.0, 10.0, 8.0, 5.0])  # m\n",
    "hn = 0.024  # m\n",
    "An = 0.21814  # m2\n",
    "\n",
    "# Cálculos\n",
    "Ip = np.pi * d**4 / 64.0\n",
    "kp = 3.0 * Ec * Ip / L**3\n",
    "kn = [Gn * An / hn, 0.00, 0.00, Gn * An / hn] # Pilares P2 e P3 sem aparelho de neoprene\n",
    "deltap = 1.0 / kp\n",
    "deltan = [hn / (Gn * An), 0.00, 0.00, hn / (Gn * An)] # Pilares P2 e P3 sem aparelho de neoprene\n",
    "k = 1.0 / (deltan + deltap)\n",
    "\n",
    "# Criação do DataFrame\n",
    "datadict = {\n",
    "    'pilar': ['P1', 'P2', 'P3', 'P4'],\n",
    "    'altura': L,\n",
    "    'rigidez_pilar': kp,\n",
    "    'rigidez_neoprene': kn,\n",
    "    'rigidez_total': k\n",
    "}\n",
    "data = pd.DataFrame(datadict)\n",
    "\n",
    "# Imprimindo o DataFrame formatado\n",
    "print(\"Tabela 5.6.2 - Rigidezes dos pilares da ponte\")\n",
    "print(\"Pilar    L(m)   kp(kN/m)   kn(kN/m)    k(kN/m)\")\n",
    "print(\"-\" * 47)  # Linha separadora\n",
    "print(data.to_string(index=False, header=False, float_format=\"{:10.2f}\".format))"
   ]
  },
  {
   "cell_type": "markdown",
   "id": "4913234b",
   "metadata": {},
   "source": [
    "* Na Tabela 5.6.3 é feita a distribuição dos esforços longitudinais devidos à frenagem e ao empuxo diferencial proporcionalmente à rigidez de cada pilar de acordo com a equação:\n",
    "\n",
    "$$F_i = \\frac{k_i}{\\sum{k_i}} F_{total}$$\n",
    "\n",
    "onde: $F_i$ é a força que o pilar $i$ absorve, $k_i$ é a rigidez do pilar $i$, $\\sum{k_i}$ é a soma das rigidezes de todos os pilares, e $F_{total}$ é a força longitudinal total aplicada no estrado.\n",
    "\n",
    "* Os esforços apresentados na tabela são os que atuam longitudinalmente em cada par de pilares. Para o dimensionamento de cada fuste dos pilares, usa-se a metade do esforço."
   ]
  },
  {
   "cell_type": "code",
   "execution_count": 7,
   "id": "8ef5e4c5",
   "metadata": {},
   "outputs": [
    {
     "name": "stdout",
     "output_type": "stream",
     "text": [
      "Tabela 5.6.3 - Forças longitudinais nos pilares devidas à carga móvel\n",
      "Pilar      k(kN/m)        r        Força (kN)\n",
      "P1         3628.68     0.1870           51.18\n",
      "P2         3092.51     0.1593           43.62\n",
      "P3         6040.05     0.3112           85.19\n",
      "P4         6647.11     0.3425           93.76\n",
      "Total  =               1.0000          273.75\n"
     ]
    }
   ],
   "source": [
    "# Distribuição dos esforços de frenagem e empuxo diferencial nos pilares da ponte\n",
    "import numpy as np\n",
    "import pandas as pd\n",
    "r = np.zeros(4)\n",
    "força_pilar_movel = np.zeros(4)\n",
    "somak = sum(k)\n",
    "r=k/somak\n",
    "forca_movel_total = forca_frenagem + empuxo_diferencial\n",
    "força_pilar_movel = r*forca_movel_total\n",
    "\n",
    "print('Tabela 5.6.3 - Forças longitudinais nos pilares devidas à carga móvel')\n",
    "print('Pilar      k(kN/m)        r        Força (kN)')\n",
    "                      \n",
    "datadict2 = {'pilar': ['P1','P2','P3','P4'], 'rigidez': k, 'rig_rel': r, 'forca_movel': força_pilar_movel}\n",
    "data2 = pd.DataFrame(datadict2)\n",
    "\n",
    "# Imprimindo o DataFrame sem nomes de colunas e índices de linhas, com formatação\n",
    "formatted_data = data2.copy()  # Criamos uma cópia para não modificar o DataFrame original\n",
    "formatted_data['rigidez'] = formatted_data['rigidez'].apply(lambda x: \"{:15.2f}\".format(x))\n",
    "formatted_data['rig_rel'] = formatted_data['rig_rel'].apply(lambda x: \"{:10.4f}\".format(x))\n",
    "formatted_data['forca_movel'] = formatted_data['forca_movel'].apply(lambda x: \"{:15.2f}\".format(x))\n",
    "\n",
    "print(formatted_data.to_string(index=False, header=False))\n",
    "print(f'Total  =           {sum(r):10.4f}      {forca_movel_total:10.2f}')\n"
   ]
  },
  {
   "cell_type": "markdown",
   "id": "19ae5203",
   "metadata": {},
   "source": [
    "* Na Tabela 5.6.4 é feita a distribuição dos esforços longitudinais devidos ao vento, proporcionalmente à rigidez de cada pilar. Novamente, os esforços apresentados tabela são os que atuam longitudinalmente em cada par de pilares. Para o dimensionamento de cada fuste dos pilares, usa-se a metade do esforço. |"
   ]
  },
  {
   "cell_type": "code",
   "execution_count": 8,
   "id": "b8ed5f3e",
   "metadata": {},
   "outputs": [
    {
     "name": "stdout",
     "output_type": "stream",
     "text": [
      "Tabela 5.6.4 - Forças longitudinais nos pilares devidas ação do vento\n",
      "Pilar      k(kN/m)        r        Força (kN)\n",
      "P1         3628.68     0.1870           30.85\n",
      "P2         3092.51     0.1593           26.29\n",
      "P3         6040.05     0.3112           51.35\n",
      "P4         6647.11     0.3425           56.52\n",
      "Total  =               1.0000          165.01\n"
     ]
    }
   ],
   "source": [
    "# Distribuição dos esforços longitudinais do vento nos pilares da ponte\n",
    "import numpy as np\n",
    "import pandas as pd\n",
    "r = np.zeros(4)\n",
    "forca_pilar_w_long = np.zeros(4)\n",
    "somak = sum(k)\n",
    "r=k/somak\n",
    "forca_pilar_w_long = r*Hwl\n",
    "\n",
    "print('Tabela 5.6.4 - Forças longitudinais nos pilares devidas ação do vento')\n",
    "print('Pilar      k(kN/m)        r        Força (kN)')\n",
    "                      \n",
    "datadict2 = {'pilar': ['P1','P2','P3','P4'], 'rigidez': k, 'rig_rel': r, 'forca_vento_long': forca_pilar_w_long}\n",
    "data2 = pd.DataFrame(datadict2)\n",
    "\n",
    "# Imprimindo o DataFrame sem nomes de colunas e índices de linhas, com formatação\n",
    "formatted_data = data2.copy()  # Criamos uma cópia para não modificar o DataFrame original\n",
    "formatted_data['rigidez'] = formatted_data['rigidez'].apply(lambda x: \"{:15.2f}\".format(x))\n",
    "formatted_data['rig_rel'] = formatted_data['rig_rel'].apply(lambda x: \"{:10.4f}\".format(x))\n",
    "formatted_data['forca_vento_long'] = formatted_data['forca_vento_long'].apply(lambda x: \"{:15.2f}\".format(x))\n",
    "\n",
    "print(formatted_data.to_string(index=False, header=False))\n",
    "print(f'Total  =           {sum(r):10.4f}      {sum(forca_pilar_w_long):10.2f}')\n"
   ]
  },
  {
   "cell_type": "markdown",
   "id": "04af3623",
   "metadata": {},
   "source": [
    "### 5.6.6 - Distribuição pelos pilares dos esforços transversais atuantes no estrado"
   ]
  },
  {
   "cell_type": "markdown",
   "id": "57b045ca",
   "metadata": {},
   "source": [
    "* No exemplo de cálculo, o único esforço transversal atuante é devido ao vento.\n",
    "*  Calcula-se os efeitos referidos ao centro de gravidade das rigidezes, considerando a rigidez transversal de cada pórtico, proporcional à rigidez relativa de seus respectivos pilares. \n",
    "* Tomando o pilar P3 como origem das abscissas, conforme a Figura 5.6.4, obtém-se os seguintes valores indicado na Tabela 5.6.5:\n",
    "\n",
    "Figura 5.6.4 - Centroide das rigidezes transversais dos pilares.\n",
    "\n",
    "<img src=\"./images/centroide_rigidez.jpg\" alt=\"Centroide das rigidezes transversais\" style=\"width:600px\"/>\n",
    "\n",
    "<font size=\"-1\">Fonte: PFEIL. Pontes em concreto armado. 3ª ed. Rio de Janeiro, LTC, 1983. 2 volumes (adaptada)</font>"
   ]
  },
  {
   "cell_type": "markdown",
   "id": "f9ed8020",
   "metadata": {},
   "source": [
    "* Cálculo do centroide das rigidezes:\n",
    "\n",
    "$$ x_G = \\frac{\\sum_{i=1}^n k_i x_i}{\\sum_{i=1}^n k_i} = \\frac{5,55}{1,00} = 5,55 m$$"
   ]
  },
  {
   "cell_type": "markdown",
   "id": "adfd4ef0",
   "metadata": {},
   "source": [
    "* Cálculo das coordenadas em relação ao centroide:\n",
    "\n",
    "$$ x_{Gi} = x_i - x_G $$"
   ]
  },
  {
   "cell_type": "markdown",
   "id": "9285299d",
   "metadata": {},
   "source": [
    "* A ação do vento atua com uma excentricidade $e$ em relação ao centroide das rigidezes: $ e = 12,50 m - x_G = 12,50 m - 5,55 m = 6,95 m $.\n",
    "\n",
    "* Os valores percentuais de distribuição do vento são obtidos com uma fórmula análoga à da flexão composta, na qual o momento da inércia do conjunto das rigidezes vale:\n",
    "\n",
    "$$ I_{xG} = \\sum{k_i x_{Gi}^2} $$"
   ]
  },
  {
   "cell_type": "markdown",
   "id": "16320387",
   "metadata": {},
   "source": [
    "* Os coeficientes de distribuição da força transnversal do vento serão dados por:\n",
    "\n",
    "$$ c_{di} = k_i\\left[\\frac{1}{\\sum{k_i}} + \\left(\\frac{e}{I}x_{Gi}\\right)\\right] $$"
   ]
  },
  {
   "cell_type": "code",
   "execution_count": null,
   "metadata": {},
   "outputs": [],
   "source": []
  },
  {
   "cell_type": "code",
   "execution_count": 9,
   "id": "66217a14",
   "metadata": {},
   "outputs": [
    {
     "name": "stdout",
     "output_type": "stream",
     "text": [
      "xg0 =       5.55 m\n",
      "Ixg = 11342515.65 kNm\n",
      "e =       6.95 m\n",
      "\n",
      "Tabela 5.6.5 - Forças transversais nos pilares devidas ação do vento\n",
      "Pilar      k(kN/m)        cd        Força (kN)\n",
      "P1         3628.68     0.2747          181.33\n",
      "P2         3092.51     0.1962          129.51\n",
      "P3         6040.05     0.2907          191.86\n",
      "P4         6647.11     0.2384          157.35\n",
      "Total  =               1.0000          660.06\n"
     ]
    }
   ],
   "source": [
    "# Distribuição dos esforços transversais do vento nos pilares da ponte\n",
    "import numpy as np\n",
    "import pandas as pd\n",
    "r = np.zeros(4)\n",
    "forca_pilar_w_transv = np.zeros(4)\n",
    "xg = np.zeros(4)\n",
    "kx = np.zeros(4)\n",
    "kx2 = np.zeros(4)\n",
    "\n",
    "\n",
    "x=np.array([45.00, 25.00, 0.00, -20.00])\n",
    "somak = sum(k)\n",
    "r=k/somak\n",
    "\n",
    "kx = np.dot(k,x)\n",
    "kx2 = np.dot(kx,x)\n",
    "xg0 = kx/sum(k)\n",
    "xg = x - xg0\n",
    "Ixg = sum(k*xg**2)\n",
    "e = 12.50 - xg0\n",
    "cd = k*(1.00/somak + e/Ixg*xg)\n",
    "forca_pilar_w_transv = cd*Hwt\n",
    "\n",
    "print(f'xg0 = {xg0:10.2f} m')\n",
    "print(f'Ixg = {Ixg:10.2f} kNm')\n",
    "print(f'e = {e:10.2f} m')\n",
    "print()\n",
    "\n",
    "print('Tabela 5.6.5 - Forças transversais nos pilares devidas ação do vento')\n",
    "print('Pilar      k(kN/m)        cd        Força (kN)')\n",
    "                      \n",
    "datadict2 = {'pilar': ['P1','P2','P3','P4'], 'rigidez': k, 'coef_dist': cd, 'forca_vento_transv': forca_pilar_w_transv}\n",
    "data2 = pd.DataFrame(datadict2)\n",
    "\n",
    "# Imprimindo o DataFrame sem nomes de colunas e índices de linhas, com formatação\n",
    "formatted_data = data2.copy()  # Criamos uma cópia para não modificar o DataFrame original\n",
    "formatted_data['rigidez'] = formatted_data['rigidez'].apply(lambda x: \"{:15.2f}\".format(x))\n",
    "formatted_data['coef_dist'] = formatted_data['coef_dist'].apply(lambda x: \"{:10.4f}\".format(x))\n",
    "formatted_data['forca_vento_transv'] = formatted_data['forca_vento_transv'].apply(lambda x: \"{:15.2f}\".format(x))\n",
    "\n",
    "print(formatted_data.to_string(index=False, header=False))\n",
    "print(f'Total  =           {sum(r):10.4f}      {sum(forca_pilar_w_transv):10.2f}')\n"
   ]
  },
  {
   "cell_type": "markdown",
   "id": "50abc5fa",
   "metadata": {},
   "source": [
    "* É usual se adotar para estruturas contínuas o mesmo procedimento adotado para vigas isostáticas, o que conduz a resultados por vezes muito diferentes dos reais.\n",
    "* Aplicando esse critério simplificado ao nosso exemplo, isto é, adotando porcentagens de distribuição do esforço total proporcionais aos comprimentos dos vãos, encontra-se os seguintes valores, considerando-se uma ação do vento igual a $F_x = 8,80 kN/m$, que são mostrados na Tabela 5.6.6:"
   ]
  },
  {
   "cell_type": "code",
   "execution_count": 12,
   "id": "3e078daf",
   "metadata": {},
   "outputs": [
    {
     "name": "stdout",
     "output_type": "stream",
     "text": [
      "Tabela 5.6.6 - Forças transversais nos pilares devidas ação do vento proporcionais ao comprimento de influência\n",
      "Pilar      k(kN/m)        cd        Força (kN)\n",
      "P1           15.00     0.2000          132.01\n",
      "P2           22.50     0.3000          198.02\n",
      "P3           22.50     0.3000          198.02\n",
      "P4           15.00     0.2000          132.01\n",
      "Total  =               1.0000          660.06\n"
     ]
    }
   ],
   "source": [
    "# Distribuição dos esforços transversais do vento nos pilares da ponte proporcionais ao comprimento de influência\n",
    "import numpy as np\n",
    "import pandas as pd\n",
    "\n",
    "forca_pilar_w_prop = np.zeros(4)\n",
    "comprimento_influencia = np.array([15.00, 22.50, 22.50, 15.00])\n",
    "comprimento_ponte = 75.00 # m\n",
    "rt = comprimento_influencia / comprimento_ponte\n",
    "forca_pilar_w_prop = rt*Hwt\n",
    "\n",
    "print('Tabela 5.6.6 - Forças transversais nos pilares devidas ação do vento proporcionais ao comprimento de influência')\n",
    "print('Pilar      k(kN/m)        cd        Força (kN)')\n",
    "                      \n",
    "datadict2 = {'pilar': ['P1','P2','P3','P4'], 'compr_infl': comprimento_influencia, 'coef_dist': rt, 'forca_vento_transv': forca_pilar_w_prop}\n",
    "data2 = pd.DataFrame(datadict2)\n",
    "\n",
    "# Imprimindo o DataFrame sem nomes de colunas e índices de linhas, com formatação\n",
    "formatted_data = data2.copy()  # Criamos uma cópia para não modificar o DataFrame original\n",
    "formatted_data['compr_infl'] = formatted_data['compr_infl'].apply(lambda x: \"{:15.2f}\".format(x))\n",
    "formatted_data['coef_dist'] = formatted_data['coef_dist'].apply(lambda x: \"{:10.4f}\".format(x))\n",
    "formatted_data['forca_vento_transv'] = formatted_data['forca_vento_transv'].apply(lambda x: \"{:15.2f}\".format(x))\n",
    "\n",
    "print(formatted_data.to_string(index=False, header=False))\n",
    "print(f'Total  =           {sum(r):10.4f}      {sum(forca_pilar_w_prop):10.2f}')\n"
   ]
  },
  {
   "cell_type": "markdown",
   "id": "f6c28926",
   "metadata": {},
   "source": [
    "### 5.6.7 - Esforços nos pilares devidos a uma variação de temperatura de $\\pm 25^{\\circ}C$"
   ]
  },
  {
   "cell_type": "markdown",
   "id": "b444b7e3",
   "metadata": {},
   "source": [
    "* O esforço recebido por um pilar, devido a uma variação de temperatura de $\\Delta T(^{\\circ}C)$ é dado por:\n",
    "\n",
    "$$ F_T = k \\alpha \\Delta T \\bar{x} $$"
   ]
  },
  {
   "cell_type": "markdown",
   "id": "8c7a7c04",
   "metadata": {},
   "source": [
    "sendo $k$ a rigidez do pilar, $\\alpha$ o coeficiente de dilatação térmica do concreto e $\\bar{x}$  a distância do pilar ao ponto indeslocável do estrado, o qual coincide com o ponto $x_G$.\n",
    "\n",
    "* Para a solução deste problema utiliza-se os valores calculados nos itens anteriores, observando ser necessário usar os valores absolutos das rigidezes. Obtém-se os seguintes resultados para $\\Delta T = 25^{\\circ}C$, sendo $\\alpha=10^{-5}$ $^{\\circ}C^{-1}$, que são apresentados na Tabela 5.6.7.\n"
   ]
  },
  {
   "cell_type": "code",
   "execution_count": 13,
   "id": "3b64eb9e",
   "metadata": {},
   "outputs": [
    {
     "name": "stdout",
     "output_type": "stream",
     "text": [
      "alpha = 1.00e-05 °C^-1\n",
      "delta_T = 25.00 °C\n",
      "\n",
      "Tabela 5.6.7 - Forças longitudinais nos pilares devidas à temperatura e à retração\n",
      "Pilar      k(kN/m)     xg(m)       Força (kN)\n",
      "P1         3628.68    39.4529           35.79\n",
      "P2         3092.51    19.4529           15.04\n",
      "P3         6040.05    -5.5471           -8.38\n",
      "P4         6647.11   -25.5471          -42.45\n",
      "Total  =                               0.0000\n"
     ]
    }
   ],
   "source": [
    "# Distribuição dos esforços longitudinais da temperatura e retração nos pilares da ponte\n",
    "import numpy as np\n",
    "import pandas as pd\n",
    "\n",
    "forca_pilar_temperatura = np.zeros(4)\n",
    "distancia_pilar_xg = np.array([(45.00-xg0), (25.00-xg0), -xg0, -(xg0+20.00)])\n",
    "alpha = 1.00e-5 # °C^-1\n",
    "delta_T = 25.00 # °C\n",
    "forca_pilar_temperatura = k * alpha * distancia_pilar_xg * delta_T\n",
    "\n",
    "print(f'alpha = {alpha:.2e} °C^-1')\n",
    "print(f'delta_T = {delta_T:.2f} °C')\n",
    "print()\n",
    "\n",
    "print('Tabela 5.6.7 - Forças longitudinais nos pilares devidas à temperatura e à retração')\n",
    "print('Pilar      k(kN/m)     xg(m)       Força (kN)')\n",
    "                      \n",
    "datadict4 = {'pilar': ['P1','P2','P3','P4'], 'rigidez': k, 'dist_xg': distancia_pilar_xg, 'forca_vento_temp': forca_pilar_temperatura}\n",
    "data4 = pd.DataFrame(datadict4)\n",
    "\n",
    "# Imprimindo o DataFrame sem nomes de colunas e índices de linhas, com formatação\n",
    "formatted_data = data4.copy()  # Criamos uma cópia para não modificar o DataFrame original\n",
    "formatted_data['rigidez'] = formatted_data['rigidez'].apply(lambda x: \"{:15.2f}\".format(x))\n",
    "formatted_data['dist_xg'] = formatted_data['dist_xg'].apply(lambda x: \"{:10.4f}\".format(x))\n",
    "formatted_data['forca_vento_temp'] = formatted_data['forca_vento_temp'].apply(lambda x: \"{:15.2f}\".format(x))\n",
    "\n",
    "print(formatted_data.to_string(index=False, header=False))\n",
    "print(f'Total  =                           {np.abs(sum(forca_pilar_temperatura)):10.4f}')\n"
   ]
  },
  {
   "cell_type": "markdown",
   "id": "43e57d9c",
   "metadata": {},
   "source": [
    "* Observa-se que a soma dos esforços provocados pela temperatura + retração dá resultado nulo, uma vez que tais esforços são produzidos por ações internas, sem qualquer interferência das solicitações externas. "
   ]
  },
  {
   "cell_type": "markdown",
   "id": "c1476d06",
   "metadata": {},
   "source": [
    "### 5.6.8 - Esforços nos pilares devido ao empuxo de terra"
   ]
  },
  {
   "cell_type": "markdown",
   "id": "f9ef5cdf",
   "metadata": {},
   "source": [
    "* Considerando a ponte do exemplo, observa-se que seus pilares externos P1 e P4 estão sujeitos ao empuxo de terra do talude dos acessos, conforme ilustrado pela Figura 5.6.4.\n",
    "\n",
    "Figura 5.6.4 - Ação do empuxo de terra sobre os pilares de extremidade da ponte.\n",
    "\n",
    "<img src=\"./images/empuxo_pilares.jpg\" alt=\"Empuxo sobre pilares de extremidade da ponte\" style=\"width:600px\"/>\n",
    "\n",
    "<font size=\"-1\">Fonte: PFEIL. Pontes em concreto armado. 3ª ed. Rio de Janeiro, LTC, 1983. 2 volumes (adaptada)</font>\n",
    "\n",
    "* O coeficiente de empuxo ativo obtido é $k_a=1$, considerando $\\alpha = \\phi$ e $\\delta = 0$.\n",
    "\n",
    "* Para o caso de pilares situados em saias de aterro, as normas adotam uma largura majorada do pilar para levar em conta um efeito de arco no solo, o qual aumenta a área de reação do pilar ao deslocamento do aterro.\n",
    "\n",
    "* Essa largura ideal é fixada pela NBR-7187:2021 como sendo igual a três vezes a largura do pilar, limitada à largura da plataforma do aterro.\n",
    "\n",
    "* Com a largura ideal igual a $3,0m$, obtém-se os seguintes valores para os empuxos ativos nos pilares extremos na forma:\n",
    "\n",
    "* Pilar P1: $$E_1 = \\frac{1}{2} \\times 1,0 \\times 18 \\frac{kN}{m^3} \\times (4,0 m)^2 \\times 3,0 m = 432 kN $$\n",
    "\n",
    "* Pilar P4: $$E_4 = \\frac{1}{2} \\times 1,0 \\times 18 \\frac{kN}{m^3} \\times (3,0 m)^2 \\times 3,0 m = 243 kN $$"
   ]
  },
  {
   "cell_type": "markdown",
   "id": "1fa7870c",
   "metadata": {},
   "source": [
    "* Supondo o pilar apoiado na parte superior, pode-se calcular o momento fletor na base, utilizando as tabelas publicadas em diversos manuais.\n",
    "*  Admitindo para maior simplicidade, que o diagrama de pressões de terra se estenda até a base do pilar, obtemos o valor de $M_1'$:\n",
    "\n",
    "$$ M_1' = \\frac{E a}{3}\\left(2 - 2,25 \\frac{a}{L} - 0,6 \\frac{a^2}{L^2}\\right) = \\frac{432 \\times 5}{3}\\left(2 - 2,25 \\frac{5}{8} - 0,6 \\frac{5^2}{8^2}\\right) = 258,75 kNm $$"
   ]
  },
  {
   "cell_type": "markdown",
   "id": "e7474a86",
   "metadata": {},
   "source": [
    "* A reação $R_1$ no apoio rotulado, suposto indeslocável, vale:\n",
    "\n",
    "$$R_1 = \\frac{E a}{3}\\frac{1}{8} - \\frac{M_1'}{L} = \\frac{432 5}{3}\\frac{1}{8} - \\frac{258,75}{8} = 57,66 kN $$"
   ]
  },
  {
   "cell_type": "markdown",
   "id": "05a8c104",
   "metadata": {},
   "source": [
    "* Essa reação é, no entanto, fictícia, uma vez que o pilar está apoiado elasticamente no apoio de neoprene, e este apoio, por sua vez está contido elasticamente pelo tabuleiro.\n",
    "\n",
    "* Supondo inicialmente o estrado indeslocável, a reação absorvida pelo neoprene valerá:\n",
    "\n",
    "$$R_{1n} = R_1 \\frac{k_n}{k_n+k_p} = R_1 \\frac{\\frac{G_n A_n}{h_n}}{\\frac{G_n A_n}{h_n}+\\frac{3 E I}{L^3}}$$\n",
    "\n",
    "$$R_{1n} = 57,66 \\frac{\\frac{218,14}{0,024}}{\\frac{218,14}{0,024}+\\frac{3 \\times 21\\times 10^6 \\times 0,0491}{8^3}} = 34,64 kN$$\n"
   ]
  },
  {
   "cell_type": "markdown",
   "id": "dc661b0c",
   "metadata": {},
   "source": [
    "* Considerando agora que o estrado também está apoiado elasticamente nos pilares, obtém-se o seguinte valor para a reação efetiva no topo do pilar:\n",
    "\n",
    "$$ R_{1,estrado} = R_1 \\frac{k_n}{k_n+k_p} \\left(1-\\frac{k_1}{\\sum{k}}\\right) = 34,64 kN (1 - 0,1870) = 28,16 kN $$"
   ]
  },
  {
   "cell_type": "markdown",
   "id": "b54d2597",
   "metadata": {},
   "source": [
    "* O momento final na base do pilar vale:\n",
    "\n",
    "$$ M = \\frac{ E a}{3} - RL = \\frac{432 \\times 5}{3} - 28,16 \\times 8 = 496 kNm $$\n",
    "\n",
    "* A primeira parcela do cálculo acima representa o momento fletor na base, admitindo-se o pilar livre na extremidade superior."
   ]
  },
  {
   "cell_type": "markdown",
   "id": "3b9232f3",
   "metadata": {},
   "source": [
    "* Admitindo o empuxo de terra agindo apenas no pilar P1, teremos um esforço de $28,16 kN$ aplicado no tabuleiro (o esforço se refere a um fuste de pilar). Resultam os seguintes esforços nos pilares intermediários (por fuste):\n",
    "\n",
    "* Pilar P2: $R_{1,P2} = 28,16 kN \\times 0,1593 = 4,49 kN$\n",
    "\n",
    "* Pilar P3: $R_{1,P3} = 28,16 kN \\times 0,3112 = 8,76 kN$"
   ]
  },
  {
   "cell_type": "markdown",
   "id": "1d95e120",
   "metadata": {},
   "source": [
    "*Para termos uma idéia comparativa, imaginemos que o pilar P1 não tivesse apoio de borracha. Neste caso a reação efetiva no topo do pilar seria:\n",
    "\n",
    "$$ R_{1,fixo} = R_1\\left(1 - \\frac{k_1}{\\sum{k}}\\right) = 57,66 kN (1-0,1870) = 46,88 kN$$\n",
    "\n",
    "* O momento final na base do pilar seria:\n",
    "\n",
    "$$ M_{fixo} = \\frac{ E a}{3} - RL = \\frac{432 \\times 5}{3} - 46,88 \\times 8 = 344,98 kNm $$\n",
    "\n"
   ]
  },
  {
   "cell_type": "markdown",
   "id": "a022827f",
   "metadata": {},
   "source": [
    "As solicitações provocadas no pilar P4, pelo empuxo de terra, se calculam de maneira análoga ao pilar P1"
   ]
  }
 ],
 "metadata": {
  "colab": {
   "name": "Capítulo_1.ipynb",
   "provenance": []
  },
  "kernelspec": {
   "display_name": "Python 3 (ipykernel)",
   "language": "python",
   "name": "python3"
  },
  "language_info": {
   "codemirror_mode": {
    "name": "ipython",
    "version": 3
   },
   "file_extension": ".py",
   "mimetype": "text/x-python",
   "name": "python",
   "nbconvert_exporter": "python",
   "pygments_lexer": "ipython3",
   "version": "3.12.0"
  }
 },
 "nbformat": 4,
 "nbformat_minor": 5
}
