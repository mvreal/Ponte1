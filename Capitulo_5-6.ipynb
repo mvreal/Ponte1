{
 "cells": [
  {
   "cell_type": "markdown",
   "id": "1dc445f3-8f0f-41b7-a0fa-541467a1d3db",
   "metadata": {
    "id": "1dc445f3-8f0f-41b7-a0fa-541467a1d3db"
   },
   "source": [
    "### Universidade Federal do Rio Grande - FURG"
   ]
  },
  {
   "cell_type": "markdown",
   "id": "27d28d81-ad30-4559-b52d-0fee9ac96cae",
   "metadata": {
    "id": "27d28d81-ad30-4559-b52d-0fee9ac96cae"
   },
   "source": [
    "### Escola de Engenharia - EE"
   ]
  },
  {
   "cell_type": "markdown",
   "id": "103a5401-6849-4ee0-a254-08a7f684a870",
   "metadata": {
    "id": "103a5401-6849-4ee0-a254-08a7f684a870"
   },
   "source": [
    "### Curso de Graduação em Engenharia Civil - EC"
   ]
  },
  {
   "cell_type": "markdown",
   "id": "547b79f5-d7a3-4b02-8ce9-7c1647bff36b",
   "metadata": {
    "id": "547b79f5-d7a3-4b02-8ce9-7c1647bff36b"
   },
   "source": [
    "### Disciplina: Pontes - 04314"
   ]
  },
  {
   "cell_type": "markdown",
   "id": "189e93bb-f3e5-4536-9aec-d09046d6929b",
   "metadata": {
    "id": "189e93bb-f3e5-4536-9aec-d09046d6929b"
   },
   "source": [
    "### Professor: Dr. Mauro de Vasconcellos Real"
   ]
  },
  {
   "cell_type": "markdown",
   "id": "9187878f-2f69-43a6-9e66-d91991265288",
   "metadata": {},
   "source": [
    "# __Aula 01__"
   ]
  },
  {
   "cell_type": "markdown",
   "id": "ce78f794-4773-4210-bf0c-d89fd0e707f7",
   "metadata": {
    "id": "ce78f794-4773-4210-bf0c-d89fd0e707f7"
   },
   "source": [
    "# __Capítulo 5 - Infraestrutura da Pontes__ <a name=\"section_5\"></a>"
   ]
  },
  {
   "cell_type": "markdown",
   "id": "a8a51f34",
   "metadata": {},
   "source": [
    "## 5.6 - Cálculo dos esforços horizontais de uma ponte rodoviária de estrado contínuo"
   ]
  },
  {
   "cell_type": "markdown",
   "id": "157432c3-c6ac-4105-b5b2-45e3ad381233",
   "metadata": {
    "id": "157432c3-c6ac-4105-b5b2-45e3ad381233"
   },
   "source": [
    "### 5.6.1 Introdução"
   ]
  },
  {
   "cell_type": "markdown",
   "id": "2c6d70ab",
   "metadata": {},
   "source": [
    "* Seja uma ponte rodoviária mostrada na Figura 5.6.1, cujos pilares são apoiados em tubulões a ar comprimido. A geometria da ponte foi extraída de PFEIL (1983).\n",
    "* Os pilares formam uma estrutura aporticada contínua, parcialmente enterrada.\n",
    "* Consideraremos neste trabalho os pilares como engastados na seção de transição do pilar para o tubulão\n",
    "\n",
    "Figura 5.6.1 - Desenhos da ponte do exemplo de cálculo:(a) elevação, (b) planta baixa, (c) seção transversal\n",
    "\n",
    "<img src=\"./images/plantas_da_ponte.jpg\" alt=\"Desenhos da ponte do exemplo de cálculo\" style=\"width:900px\"/>\n",
    "\n",
    "<img src=\"./images/seção_transversal.jpg\" alt=\"Seção transversal da ponte do exemplo de cálculo\" style=\"width:600px\"/>\n",
    "\n",
    "<font size=\"-1\">Fonte: PFEIL. Pontes em concreto armado. 3ª ed. Rio de Janeiro, LTC, 1983. 2 volumes (adaptada)</font>\n"
   ]
  },
  {
   "cell_type": "markdown",
   "id": "5b50e58c",
   "metadata": {},
   "source": [
    "### 5.6.2 - Força longitudinal devido à frenagem e aceleração."
   ]
  },
  {
   "cell_type": "markdown",
   "id": "f73cd49d",
   "metadata": {},
   "source": [
    "* Sendo a ponte do exemplo uma ponte rodoviária de classe I, com pista de rolamento de $12,20m$ de largura, o carregamento total do estrado com carga uniformemente distribuída faz-se, de acordo com a NBR-7188:2024, admitindo uma faixa de $12,20m$ de largura, carregada com $5,0kN/m^2$.\n",
    "* De acordo com a NBR-7188:2024, o veículo-tipo para pontes rodoviárias de classe TR-45 é constituído por um caminhão com peso de $450kN$."
   ]
  },
  {
   "cell_type": "markdown",
   "id": "b013f8b8",
   "metadata": {},
   "source": [
    "* O valor para a força longitudinal de frenagem, de acordo com o item 5.2.1 da norma NBR-7188:2024, será dado por:\n",
    "\n",
    "* $H_{fr} = 0,05 \\times p \\times B \\times L  \\times CNF$, sendo $H_{fr} \\ge 0,30 \\times (6P)$\n",
    "\n",
    "* Onde $p = 5 kN/m^2$ é a carga de multidão, $ P = 75 kN$ é o peso por roda do veículo tipo, $B$ é a largura do tabuleiro da ponte, $L$ é comprimento do tabuleiro da ponte e $CNF$ é o coeficiente de número de faixas, no caso igual a $1,00$\n",
    "\n",
    "* Para a ponte do exemplo de cálculo:\n",
    "\n",
    "*  $H_{fr} = 0,05 \\times 5 kN/m^2 \\times 12,20 m \\times 75,00 m \\ 1,00 =  228,75 kN$, sendo $H_{fr} \\ge 0,30 \\times (6 \\times 75,00 kN) = 135 kN$ Ok!\n"
   ]
  },
  {
   "cell_type": "markdown",
   "id": "152cc7e7",
   "metadata": {},
   "source": [
    "### 5.6.2 - Esforços devidos ao vento"
   ]
  },
  {
   "cell_type": "markdown",
   "id": "6966e46f",
   "metadata": {},
   "source": [
    "* A norma NBR-6123:2023 em seu Capítulo 11 trata da ação do vento em pontes."
   ]
  },
  {
   "cell_type": "markdown",
   "id": "8469a699",
   "metadata": {},
   "source": [
    "#### Ação do vento no sentido transversal ao tabuleiro"
   ]
  },
  {
   "cell_type": "markdown",
   "id": "6c4c4a6c",
   "metadata": {},
   "source": [
    "* A componente $F_x$ da força estática de vento na direção $x$, corresponde à força de arrasto no caso do vento com ângulo de ataque $\\alpha = 0^{\\circ}$ (ou de incidência) na direção transversal ao eixo do tabuleiro (ver Figura 5.6.2).\n",
    "\n",
    "Figura 5.6.2 - Ação do vento sobre um tabuleiro de ponte, segundo a NBR-6123:2023\n",
    "\n",
    "<img src=\"./images/vento1.jpg\" alt=\"Ação do vento sobre uma ponte - 1\" style=\"width:600px\"/>\n",
    "\n",
    "<font size=\"-1\">Fonte: ABNT. NBR 6123:2023: Forças devidas ao vento em edificações. Rio de Janeiro, 2023. (adaptada)</font>\n",
    "\n",
    "A componente $F_x$ por unidade de comprimento do tabuleiro é calculada pela seguinte equação:\n",
    "\n",
    "$$ F_x = \\frac{1}{2} \\rho v_k^2 (\\bar{z}) B C_x $$\n",
    "\n",
    "onde:\n",
    "\n",
    "$\\rho$ é a massa específica do ar de referência, igual a $1,226 kg/m^3$.\n",
    "\n",
    "$B$  é a largura do tabuleiro;\n",
    "\n",
    "$v_k (\\bar{z})$ é a velocidade característica do vento incidente, no nível $z = \\bar{z}$ do tabuleiro com referência \n",
    "à superfície do terreno ou da lâmina d’água ($z = 0$), calculada com $S_3$ do Grupo 1 da Tabela 4;\n",
    "\n",
    "$C_x$ é o coeficiente de força na direção $x$, igual ao coeficiente de arrasto $C_a$ para o ângulo de ataque $\\alpha = 0^{\\circ}$.\n",
    "\n",
    "* Para estruturas de tabuleiros de pontes, o coeficiente de força $C_x$ pode ser calculado pela seguinte equação:\n",
    "\n",
    "$$ C_x = 0,21 + 1,9304 \\left(\\frac{B}{H_{eq}}\\right)^{-1,279} $$\n",
    "\n",
    "onde:\n",
    "\n",
    "$H_{eq}$ é a altura equivalente do tabuleiro, associada à área exposta ao vento e definida como a soma das áreas das faces a barlavento dos componentes da estrutura, por unidade de comprimento. No caso de ponte carregada considera-se uma altura de veículo $H_v = 2,0 m$ acima do nível do pavimento.\n"
   ]
  },
  {
   "cell_type": "markdown",
   "id": "0cedcba0",
   "metadata": {},
   "source": [
    "#### Cálculos para a ponte do exemplo"
   ]
  },
  {
   "cell_type": "markdown",
   "id": "1e1d9ff8",
   "metadata": {},
   "source": [
    "* Em primeiro lugar é definida uma velocidade básica do vento igual a $v_0 = 40 m/s$.\n",
    "\n",
    "* Considerando-se que a ponte se encontra em terreno plano, adota-se o fator $S_1 = 1,00$.\n",
    "\n",
    "* A ponte esta situada em uma zona rural de Categoria III.\n",
    "\n",
    "* Como a maior dimensão da ponte é igual a $75 m$, é considerada como uma edificação da Classe C.\n",
    "\n",
    "* A parte inferior das vigas esta a $10,00 m$ acima da lâmina d'água. A algura da viga mais o pavimento é igual a $2,35 m$. A altura do veículo é tomada como igual $2,00m$ acima do pavimento. Então a altura do centroide da área de exposição ao vento será igual a $\\bar{z}=12,175m$, sendo $H_eq = 4,35 m$, considerando a ponte carregada.\n",
    "\n",
    "* O fator $S_2$ será dado pela equação:\n",
    "\n",
    "$$ S_2 = b_m F_r \\left(\\frac{z}{10}\\right)^p $$\n",
    "\n",
    "* Segundo a  Tabela 1, para Categoria III e Classe C, tem-se que $b_m = 0,93$ e $p = 0,115$.\n",
    "\n",
    "* Na Tabela 2, para a Classe C, encontra-se $F_r = 0,95$\n",
    "\n",
    "* Logo resulta:\n",
    "\n",
    "$$ S_2 = 0,93 \\times 0,95  \\left(\\frac{12,175}{10}\\right)^{0,115} = 0,9037 $$\n",
    "\n",
    "* Segundo a Tabela 4, tem-se que $S_3 = 1,11$\n",
    "\n",
    "* Assim, resulta que $v(\\bar{z}) = S_1 S_2 S_3 v_0 = 1,00 \\times 0,9037 \\times 1,11 \\times 40 m/s = 40,12 m/s$"
   ]
  },
  {
   "cell_type": "markdown",
   "id": "7d689f54",
   "metadata": {},
   "source": [
    "* O coeficiente de força $C_x$ pode ser calculado na forma:\n",
    "\n",
    "$$ C_x = 0,21 + 1,9304 \\left(\\frac{13,00}{4,35}\\right)^{-1,279} = 0,6859 $$\n",
    "\n",
    "\n",
    "A componente $F_x$ por unidade de comprimento do tabuleiro é calculada pela seguinte equação:\n",
    "\n",
    "$$ F_x = \\frac{1}{2} \\times 1,226 \\times (40,12)^2 \\times 13,00 \\times 0,6859 = 8.798,41 N/m = 8,80 kN/m  $$\n",
    "\n",
    "Então, a força resultante da ação do vento na direção transversal ao tabuleiro, $H_{wt}$, será dada por:\n",
    "\n",
    "$$H_{wt} = F_x \\times L_p = 8,80 kN/m \\times 75 m = 660 kN$$\n",
    "\n"
   ]
  },
  {
   "cell_type": "markdown",
   "id": "7890105f",
   "metadata": {},
   "source": [
    "#### Ação do vento no sentido longitudinal do tabuleiro"
   ]
  },
  {
   "cell_type": "markdown",
   "id": "a629f787",
   "metadata": {},
   "source": [
    "* Em seu item 11.3.4, a norma NBR-6123:2023, recomenda, para um tabuleiro de seção com faces sólidas, adotar para $F_y$ um valor igual a $25\\%$ da força $F_x$.\n",
    "\n",
    "* Então a ação longitudinal do vento sobre a ponte, $H_{wl}$, será dada por:\n",
    "\n",
    "$$ H_{wl} = 0,25 \\times F_x \\times L_p = 0,25 \\times 8,80 kN/m \\times 75 m = 165 kN $$"
   ]
  }
 ],
 "metadata": {
  "colab": {
   "name": "Capítulo_1.ipynb",
   "provenance": []
  },
  "kernelspec": {
   "display_name": "Python 3 (ipykernel)",
   "language": "python",
   "name": "python3"
  },
  "language_info": {
   "codemirror_mode": {
    "name": "ipython",
    "version": 3
   },
   "file_extension": ".py",
   "mimetype": "text/x-python",
   "name": "python",
   "nbconvert_exporter": "python",
   "pygments_lexer": "ipython3",
   "version": "3.12.0"
  }
 },
 "nbformat": 4,
 "nbformat_minor": 5
}
