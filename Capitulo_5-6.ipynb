{
 "cells": [
  {
   "cell_type": "markdown",
   "id": "1dc445f3-8f0f-41b7-a0fa-541467a1d3db",
   "metadata": {
    "id": "1dc445f3-8f0f-41b7-a0fa-541467a1d3db"
   },
   "source": [
    "### Universidade Federal do Rio Grande - FURG"
   ]
  },
  {
   "cell_type": "markdown",
   "id": "27d28d81-ad30-4559-b52d-0fee9ac96cae",
   "metadata": {
    "id": "27d28d81-ad30-4559-b52d-0fee9ac96cae"
   },
   "source": [
    "### Escola de Engenharia - EE"
   ]
  },
  {
   "cell_type": "markdown",
   "id": "103a5401-6849-4ee0-a254-08a7f684a870",
   "metadata": {
    "id": "103a5401-6849-4ee0-a254-08a7f684a870"
   },
   "source": [
    "### Curso de Graduação em Engenharia Civil - EC"
   ]
  },
  {
   "cell_type": "markdown",
   "id": "547b79f5-d7a3-4b02-8ce9-7c1647bff36b",
   "metadata": {
    "id": "547b79f5-d7a3-4b02-8ce9-7c1647bff36b"
   },
   "source": [
    "### Disciplina: Pontes - 04314"
   ]
  },
  {
   "cell_type": "markdown",
   "id": "189e93bb-f3e5-4536-9aec-d09046d6929b",
   "metadata": {
    "id": "189e93bb-f3e5-4536-9aec-d09046d6929b"
   },
   "source": [
    "### Professor: Dr. Mauro de Vasconcellos Real"
   ]
  },
  {
   "cell_type": "markdown",
   "id": "9187878f-2f69-43a6-9e66-d91991265288",
   "metadata": {},
   "source": [
    "# __Aula 01__"
   ]
  },
  {
   "cell_type": "markdown",
   "id": "ce78f794-4773-4210-bf0c-d89fd0e707f7",
   "metadata": {
    "id": "ce78f794-4773-4210-bf0c-d89fd0e707f7"
   },
   "source": [
    "# __Capítulo 5 - Infraestrutura da Pontes__ <a name=\"section_5\"></a>"
   ]
  },
  {
   "cell_type": "markdown",
   "id": "a8a51f34",
   "metadata": {},
   "source": [
    "## 5.6 - Cálculo dos esforços horizontais de uma ponte rodoviária de estrado contínuo"
   ]
  },
  {
   "cell_type": "markdown",
   "id": "157432c3-c6ac-4105-b5b2-45e3ad381233",
   "metadata": {
    "id": "157432c3-c6ac-4105-b5b2-45e3ad381233"
   },
   "source": [
    "### 5.6.1 Introdução"
   ]
  },
  {
   "cell_type": "markdown",
   "id": "2c6d70ab",
   "metadata": {},
   "source": [
    "* Seja uma ponte rodoviária mostrada na Figura 5.6.1, cujos pilares são apoiados em tubulões a ar comprimido. A geometria da ponte foi extraída de PFEIL (1983).\n",
    "* Os pilares formam uma estrutura aporticada contínua, parcialmente enterrada.\n",
    "* Consideraremos neste trabalho os pilares como engastados na seção de transição do pilar para o tubulão\n",
    "\n",
    "Figura 5.6.1 - Desenhos da ponte do exemplo de cálculo:(a) elevação, (b) planta baixa, (c) seção transversal\n",
    "\n",
    "<img src=\"./images/plantas_da_ponte.jpg\" alt=\"Desenhos da ponte do exemplo de cálculo\" style=\"width:900px\"/>\n",
    "\n",
    "<img src=\"./images/seção_transversal.jpg\" alt=\"Seção transversal da ponte do exemplo de cálculo\" style=\"width:600px\"/>\n",
    "\n",
    "<font size=\"-1\">Fonte: PFEIL. Pontes em concreto armado. 3ª ed. Rio de Janeiro, LTC, 1983. 2 volumes (adaptada)</font>\n"
   ]
  },
  {
   "cell_type": "markdown",
   "id": "5b50e58c",
   "metadata": {},
   "source": [
    "### 5.6.2 - Força longitudinal devido à frenagem e aceleração."
   ]
  },
  {
   "cell_type": "markdown",
   "id": "f73cd49d",
   "metadata": {},
   "source": [
    "* Sendo a ponte do exemplo uma ponte rodoviária de classe I, com pista de rolamento de $12,20m$ de largura, o carregamento total do estrado com carga uniformemente distribuída faz-se, de acordo com a NBR-7188:2024, admitindo uma faixa de $12,20m$ de largura, carregada com $5,0kN/m^2$.\n",
    "* De acordo com a NBR-7188:2024, o veículo-tipo para pontes rodoviárias de classe TR-45 é constituído por um caminhão com peso de $450kN$."
   ]
  },
  {
   "cell_type": "markdown",
   "id": "b013f8b8",
   "metadata": {},
   "source": [
    "* O valor para a força longitudinal de frenagem, de acordo com o item 5.2.1 da norma NBR-7188:2024, será dado por:\n",
    "\n",
    "* $H_{fr} = 0,05 \\times p \\times B \\times L  \\times CNF$, sendo $H_{fr} \\ge 0,30 \\times (6P)$\n",
    "\n",
    "* Onde $p = 5 kN/m^2$ é a carga de multidão, $ P = 75 kN$ é o peso por roda do veículo tipo, $B$ é a largura do tabuleiro da ponte, $L$ é comprimento do tabuleiro da ponte e $CNF$ é o coeficiente de número de faixas, no caso igual a $1,00$\n",
    "\n",
    "* Para a ponte do exemplo de cálculo:\n",
    "\n",
    "*  $H_{fr} = 0,05 \\times 5 kN/m^2 \\times 12,20 m \\times 75,00 m \\ 1,00 =  229 kN$, sendo $H_{fr} \\ge 0,30 \\times (6 \\times 75,00 kN) = 135 kN$ Ok!\n"
   ]
  },
  {
   "cell_type": "markdown",
   "id": "152cc7e7",
   "metadata": {},
   "source": [
    "### 5.6.3 - Esforços devidos ao vento"
   ]
  },
  {
   "cell_type": "markdown",
   "id": "6966e46f",
   "metadata": {},
   "source": [
    "* A norma NBR-6123:2023 em seu Capítulo 11 trata da ação do vento em pontes."
   ]
  },
  {
   "cell_type": "markdown",
   "id": "8469a699",
   "metadata": {},
   "source": [
    "#### Ação do vento no sentido transversal ao tabuleiro"
   ]
  },
  {
   "cell_type": "markdown",
   "id": "6c4c4a6c",
   "metadata": {},
   "source": [
    "* A componente $F_x$ da força estática de vento na direção $x$, corresponde à força de arrasto no caso do vento com ângulo de ataque $\\alpha = 0^{\\circ}$ (ou de incidência) na direção transversal ao eixo do tabuleiro (ver Figura 5.6.2).\n",
    "\n",
    "Figura 5.6.2 - Ação do vento sobre um tabuleiro de ponte, segundo a NBR-6123:2023\n",
    "\n",
    "<img src=\"./images/vento1.jpg\" alt=\"Ação do vento sobre uma ponte - 1\" style=\"width:600px\"/>\n",
    "\n",
    "<font size=\"-1\">Fonte: ABNT. NBR 6123:2023: Forças devidas ao vento em edificações. Rio de Janeiro, 2023. (adaptada)</font>\n",
    "\n",
    "A componente $F_x$ por unidade de comprimento do tabuleiro é calculada pela seguinte equação:\n",
    "\n",
    "$$ F_x = \\frac{1}{2} \\rho v_k^2 (\\bar{z}) B C_x $$\n",
    "\n",
    "onde:\n",
    "\n",
    "$\\rho$ é a massa específica do ar de referência, igual a $1,226 kg/m^3$.\n",
    "\n",
    "$B$  é a largura do tabuleiro;\n",
    "\n",
    "$v_k (\\bar{z})$ é a velocidade característica do vento incidente, no nível $z = \\bar{z}$ do tabuleiro com referência \n",
    "à superfície do terreno ou da lâmina d’água ($z = 0$), calculada com $S_3$ do Grupo 1 da Tabela 4;\n",
    "\n",
    "$C_x$ é o coeficiente de força na direção $x$, igual ao coeficiente de arrasto $C_a$ para o ângulo de ataque $\\alpha = 0^{\\circ}$.\n",
    "\n",
    "* Para estruturas de tabuleiros de pontes, o coeficiente de força $C_x$ pode ser calculado pela seguinte equação:\n",
    "\n",
    "$$ C_x = 0,21 + 1,9304 \\left(\\frac{B}{H_{eq}}\\right)^{-1,279} $$\n",
    "\n",
    "onde:\n",
    "\n",
    "$H_{eq}$ é a altura equivalente do tabuleiro, associada à área exposta ao vento e definida como a soma das áreas das faces a barlavento dos componentes da estrutura, por unidade de comprimento. No caso de ponte carregada considera-se uma altura de veículo $H_v = 2,0 m$ acima do nível do pavimento.\n"
   ]
  },
  {
   "cell_type": "markdown",
   "id": "0cedcba0",
   "metadata": {},
   "source": [
    "#### Cálculos para a ponte do exemplo"
   ]
  },
  {
   "cell_type": "markdown",
   "id": "1e1d9ff8",
   "metadata": {},
   "source": [
    "* Em primeiro lugar é definida uma velocidade básica do vento igual a $v_0 = 40 m/s$.\n",
    "\n",
    "* Considerando-se que a ponte se encontra em terreno plano, adota-se o fator $S_1 = 1,00$.\n",
    "\n",
    "* A ponte esta situada em uma zona rural de Categoria III.\n",
    "\n",
    "* Como a maior dimensão da ponte é igual a $75 m$, é considerada como uma edificação da Classe C.\n",
    "\n",
    "* A parte inferior das vigas esta a $10,00 m$ acima da lâmina d'água. A algura da viga mais o pavimento é igual a $2,35 m$. A altura do veículo é tomada como igual $2,00m$ acima do pavimento. Então a altura do centroide da área de exposição ao vento será igual a $\\bar{z}=12,175m$, sendo $H_eq = 4,35 m$, considerando a ponte carregada.\n",
    "\n",
    "* O fator $S_2$ será dado pela equação:\n",
    "\n",
    "$$ S_2 = b_m F_r \\left(\\frac{z}{10}\\right)^p $$\n",
    "\n",
    "* Segundo a  Tabela 1, para Categoria III e Classe C, tem-se que $b_m = 0,93$ e $p = 0,115$.\n",
    "\n",
    "* Na Tabela 2, para a Classe C, encontra-se $F_r = 0,95$\n",
    "\n",
    "* Logo resulta:\n",
    "\n",
    "$$ S_2 = 0,93 \\times 0,95  \\left(\\frac{12,175}{10}\\right)^{0,115} = 0,9037 $$\n",
    "\n",
    "* Segundo a Tabela 4, tem-se que $S_3 = 1,11$\n",
    "\n",
    "* Assim, resulta que $v(\\bar{z}) = S_1 S_2 S_3 v_0 = 1,00 \\times 0,9037 \\times 1,11 \\times 40 m/s = 40,12 m/s$"
   ]
  },
  {
   "cell_type": "markdown",
   "id": "7d689f54",
   "metadata": {},
   "source": [
    "* O coeficiente de força $C_x$ pode ser calculado na forma:\n",
    "\n",
    "$$ C_x = 0,21 + 1,9304 \\left(\\frac{13,00}{4,35}\\right)^{-1,279} = 0,6859 $$\n",
    "\n",
    "\n",
    "A componente $F_x$ por unidade de comprimento do tabuleiro é calculada pela seguinte equação:\n",
    "\n",
    "$$ F_x = \\frac{1}{2} \\times 1,226 \\times (40,12)^2 \\times 13,00 \\times 0,6859 = 8.798,41 N/m = 8,80 kN/m  $$\n",
    "\n",
    "Então, a força resultante da ação do vento na direção transversal ao tabuleiro, $H_{wt}$, será dada por:\n",
    "\n",
    "$$H_{wt} = F_x \\times L_p = 8,80 kN/m \\times 75 m = 660 kN$$\n",
    "\n"
   ]
  },
  {
   "cell_type": "markdown",
   "id": "7890105f",
   "metadata": {},
   "source": [
    "#### Ação do vento no sentido longitudinal do tabuleiro"
   ]
  },
  {
   "cell_type": "markdown",
   "id": "a629f787",
   "metadata": {},
   "source": [
    "* Em seu item 11.3.4, a norma NBR-6123:2023, recomenda, para um tabuleiro de seção com faces sólidas, adotar para $F_y$ um valor igual a $25\\%$ da força $F_x$.\n",
    "\n",
    "* Então a ação longitudinal do vento sobre a ponte, $H_{wl}$, será dada por:\n",
    "\n",
    "$$ H_{wl} = 0,25 \\times F_x \\times L_p = 0,25 \\times 8,80 kN/m \\times 75 m = 165 kN $$"
   ]
  },
  {
   "cell_type": "markdown",
   "id": "11f81d42",
   "metadata": {},
   "source": [
    "### 5.6.4 - Esforços devidos ao empuxo nas cortinas"
   ]
  },
  {
   "cell_type": "markdown",
   "id": "bcee72ed",
   "metadata": {},
   "source": [
    "* Na ponte do exemplo, as cortinas dos extremos em balanço têm $13,00m$ de largura e $2,25m$ de altura, o empuxo de terra sobre as mesmas, de acordo com a Teoria de Rankine, será:\n",
    "\n",
    "$$ E = \\frac{1}{2} p_{\\text{m\\'ax}} b h = \\frac{1}{2} k_a \\gamma b h^2 = \\frac{1}{2} \\times \\frac{1}{3} \\times 18 \\frac{kN}{m^3} \\times 13 m \\times (2,25m)^2 = 197,43 kN$$"
   ]
  },
  {
   "cell_type": "markdown",
   "id": "7b797ab7",
   "metadata": {},
   "source": [
    "* Admitindo a carga móvel distribuída atuando numa largura de $12,00m$, obtem-se:\n",
    "\n",
    "$$E = k_a q b h = \\frac{1}{3} \\times 5 \\frac{kN}{m^2} \\times 12,00 m \\times 2,25 m = 45 kN$$"
   ]
  },
  {
   "cell_type": "markdown",
   "id": "84834b06",
   "metadata": {},
   "source": [
    "### 5.6.5 - Distribuição entre os pilares dos esforços longitudinais que atuam no estrado"
   ]
  },
  {
   "cell_type": "markdown",
   "id": "8d78a762",
   "metadata": {},
   "source": [
    "* Os esforços longitudinais que atuam no estrado da ponte em estudo são resumidos na Tabela 5.6.1:\n",
    "\n",
    "Tabela 5.6.1 - Esforços longitudinais no estrado da ponte\n",
    "\n",
    "| Esforço longitudinal | Força (kN) |\n",
    "|:--------------------:|:----------:|\n",
    "| Frenagem |  229    |\n",
    "| Empuxo diferencial  | 45 |\n",
    "| Vento longitudinal | 165 | \n",
    "| Total = | 439 |"
   ]
  },
  {
   "cell_type": "markdown",
   "id": "243bdfd5",
   "metadata": {},
   "source": [
    "* O esforço longitudinal total distribui-se pelos pilares da ponte na proporção de suas respectivas rigidezes, que são obtidas pela rigidez dos fustes dos pilares.\n",
    "* Para o módulo de elasticidade do concreto adota-se o valor $E_c = 21.000 MPa = 21\\times 10^6 kN/m^2$. \n",
    "* Os pilares P2 e P3 possuem seção circular com $1,00m$ de diâmetro. Logo seu momento de inércia será dado por:\n",
    "\n",
    "$$ I_c = \\frac{\\pi \\times d^4}{64} = \\frac{\\pi \\times (1,00m)^4}{64} = 4,91 \\times 10^{-2}m^4$$\n",
    "\n",
    "* Para os pilares P2 e P3 (com rótulas de concreto), obtemos, por fuste de pilar:\n",
    "\n",
    "$$ k_2 = \\frac{ 3E_c I_c}{L^3} = \\frac{ 21\\times 10^6 kN/m^2 \\times 4,91 \\times 10^{-2}m^4}{(10,00 m)^3} = 3.093 \\frac{kN}{m}$$\n",
    "\n",
    "$$ k_3 = \\frac{ 3E_c I_c}{L^3} = \\frac{ 21\\times 10^6 kN/m^2 \\times 4,91 \\times 10^{-2}m^4}{(8,00 m)^3} = 6.042 \\frac{kN}{m}$$\n"
   ]
  },
  {
   "cell_type": "markdown",
   "id": "13ce98a1",
   "metadata": {},
   "source": [
    "onde $L$ é a altura do pilar."
   ]
  },
  {
   "cell_type": "markdown",
   "id": "9f9ebee0",
   "metadata": {},
   "source": [
    "* Os pilares P1 e P4 tem apoios de neoprene fretados com lâminas de aço.\n",
    "\n",
    "* A flexibilidade $\\delta_n$ do aparelho de neoprene será dada por:\n",
    "\n",
    "$$ \\delta_n = \\frac{h_n}{G_n A_n} $$\n",
    "\n",
    "onde:\n",
    "$h_n$ é a espessura do aparelho de apoio;\n",
    "$G_n$ é o módulo de elasticidade transversal do neoprene;\n",
    "$A_n$ é a área do aparelho de apoio.\n",
    "\n",
    "* A flexibilidade $\\delta_p$ de um pilar de comprimento $L$ é dada por:\n",
    "\n",
    "$$\\delta_p = \\frac{L^3}{E_c I_c}$$\n",
    "\n",
    "* Então, a rigidez de um pilar que possui um aparelho de apoio de neoprene será dada por:\n",
    "\n",
    "$$ k = \\frac{1}{\\delta_n + \\delta_p} = \\frac{1}{\\frac{h_n}{G_n A_n} + \\frac{L^3}{E_c I_c}}$$\n",
    "\n",
    "* O módulo de elasticidade transversal do neoprene vale $G_n = 1,00 MPa = 1.000 kN/m^2$.\n",
    "* As dimensões externas do aparelho de apoio, mostrado na Figura 5.6.3, incorporam 3 mm de camada de proteção das chapas de fretagem. \n",
    "Figura 5.6.3 - Aparelho de neoprene dos pilares P1 e P4.\n",
    "\n",
    "<img src=\"./images/aparelho_neoprene.jpg\" alt=\"Aparelho de apoio de neoprene\" style=\"width:300px\"/>\n",
    "\n",
    "<font size=\"-1\">Fonte: PFEIL. Pontes em concreto armado. 3ª ed. Rio de Janeiro, LTC, 1983. 2 volumes (adaptada)</font>\n",
    "\n",
    "* Utilizando as dimensões líquidas de neoprene obtemos os seguintes valores para rigidez dos pilares extremos:\n",
    "\n",
    "$$ k_1 = \\frac{1}{\\frac{0,024m}{1.000kN/m^2 \\times 0,21814 m^2} + \\frac{(8 m)^3}{21 \\times 10^6 kN/m^2 4,91 \\times 10^{-2}}} = 3.629 kN/m$$\n",
    "\n",
    "$$ k_2 = \\frac{1}{\\frac{0,024m}{1.000kN/m^2 \\times 0,21814 m^2} + \\frac{(5 m)^3}{21 \\times 10^6 kN/m^2 4,91 \\times 10^{-2}}} = 6.648 kN/m$$"
   ]
  },
  {
   "cell_type": "markdown",
   "id": "4913234b",
   "metadata": {},
   "source": [
    "* Na Tabela 5.6.2 é feita a distribuição dos esforços longitudinais devidos à frenagem e ao empuxo diferencial proporcionalmente à rigidez de cada pilar de acordo com a equação:\n",
    "\n",
    "$$F_i = \\frac{k_i}{\\sum{k_i}} F_{total}$$\n",
    "\n",
    "onde: $F_i$ é a força que o pilar $i$ absorve, $k_i$ é a rigidez do pilar $i$, $\\sum{k_i}$ é a soma das rigidezes de todos os pilares, e $F_{total}$ é a força longitudinal total aplicada no estrado.\n",
    "\n",
    "Tabela 5.6.2 - Distribuição das forças longidutinais devidas à frenagem e ao empuxo diferencial entre os pilares.\n",
    "\n",
    "| Pilar | $k (kN/m)$| $k_i/\\sum{k_i}$ | $F_i (kN)$ |\n",
    "|:-----:|:---------:|:------------:|:----------:| \n",
    "| 1 | 3.629 | 0,1870 | 52,24 |\n",
    "| 2 | 3.093 | 0,1593 | 43,65 |\n",
    "| 3 | 6.042 | 0,3112 | 85,27 |\n",
    "| 4 | 6.649 | 0,3425 | 93,84 |\n",
    "| $\\sum$ | 19.413 | 1,0000 | 274,00 |\n",
    "\n",
    "\n",
    "* Os esforços apresentados na tabela são os que atuam longitudinalmente em cada par de pilares. Para o dimensionamento de cada fuste dos pilares, usa-se a metade do esforço."
   ]
  },
  {
   "cell_type": "markdown",
   "id": "19ae5203",
   "metadata": {},
   "source": [
    "* * Na Tabela 5.6.3 é feita a distribuição dos esforços longitudinais devidos ao vento, proporcionalmente à rigidez de cada pilar. Novamente, os esforços apresentados tabela são os que atuam longitudinalmente em cada par de pilares. Para o dimensionamento de cada fuste dos pilares, usa-se a metade do esforço. \n",
    "\n",
    "Tabela 5.6.3 - Distribuição das forças longidutinais devidas ao vento entre os pilares.\n",
    "\n",
    "| Pilar | $k (kN/m)$| $k_i/\\sum{k_i}$ | $F_i (kN)$ |\n",
    "|:-----:|:---------:|:------------:|:----------:| \n",
    "| 1 | 3.629 | 0,1870 | 30,85 |\n",
    "| 2 | 3.093 | 0,1593 | 26,29 |\n",
    "| 3 | 6.042 | 0,3112 | 51,35 |\n",
    "| 4 | 6.649 | 0,3425 | 56,51 |\n",
    "| $\\sum$ | 19.413 | 1,0000 | 165,00 |"
   ]
  },
  {
   "cell_type": "markdown",
   "id": "04af3623",
   "metadata": {},
   "source": [
    "### 5.6.6 - Distribuição pelos pilares dos esforços transversais atuantes no estrado"
   ]
  },
  {
   "cell_type": "markdown",
   "id": "57b045ca",
   "metadata": {},
   "source": [
    "* No exemplo de cálculo, o único esforço transversal atuante é devido ao vento.\n",
    "*  Calcula-se os efeitos referidos ao centro de gravidade das rigidezes, considerando a rigidez transversal de cada pórtico, proporcional à rigidez relativa de seus respectivos pilares. \n",
    "* Tomando o pilar P3 como origem das abscissas, conforme a Figura 5.6.4, obtém-se os seguintes valores indicado na Tabela 5.6.4:\n",
    "\n",
    "Figura 5.6.4 - Centroide das rigidezes transversais dos pilares.\n",
    "\n",
    "<img src=\"./images/centroide_rigidez.jpg\" alt=\"Centroide das rigidezes transversais\" style=\"width:600px\"/>\n",
    "\n",
    "<font size=\"-1\">Fonte: PFEIL. Pontes em concreto armado. 3ª ed. Rio de Janeiro, LTC, 1983. 2 volumes (adaptada)</font>\n",
    "\n",
    "Tabela 5.6.3 - Distribuição das forças longidutinais devidas ao vento entre os pilares.\n",
    "\n",
    "| Pilar | $k (kN/m)$| $k_i/\\sum{k_i}$ | $x_i$ | $k_i x_i$ | $k_i x_i^2$ | $x_{Gi}$ |\n",
    "|:-----:|:---------:|:---------------:|:-----:|:---------:|:----------:|:--------:|\n",
    "| 1 | 3.629 | 0,1870 | 45,00 | 8,41 | 378,55 | 39,45 |\n",
    "| 2 | 3.093 | 0,1593 | 25,00 | 3,98 | 99,58 | 19,45 |\n",
    "| 3 | 6.042 | 0,3112 | 0,00 | 0,00 | 0,00 | -5,575 |\n",
    "| 4 | 6.649 | 0,3425 | -20,00 | -6,85 | 137,00 | -25,55 |\n",
    "| $\\sum$ | 19.413 | 1,0000 |  -  |__5,55__ | 615,13 | - |"
   ]
  },
  {
   "cell_type": "markdown",
   "id": "f9ed8020",
   "metadata": {},
   "source": [
    "* Cálculo do centroide das rigidezes:\n",
    "\n",
    "$$ x_G = \\frac{\\sum_{i=1}^n k_i x_i}{\\sum_{i=1}^n k_i} = \\frac{5,55}{1,00} = 5,55 m$$"
   ]
  },
  {
   "cell_type": "markdown",
   "id": "adfd4ef0",
   "metadata": {},
   "source": [
    "* Cálculo das coordenadas em relação ao centroide:\n",
    "\n",
    "$$ x_{Gi} = x_i - x_G $$"
   ]
  },
  {
   "cell_type": "markdown",
   "id": "9285299d",
   "metadata": {},
   "source": [
    "* A ação do vento atua com uma excentricidade $e$ em relação ao centroide das rigidezes: $ e = 12,50 m - x_G = 12,50 m - 5,55 m = 6,95 m $.\n",
    "\n",
    "* Os valores percentuais de distribuição do vento são obtidos com uma fórmula análoga à da flexão composta, na qual o momento da inércia do conjunto das rigidezes vale:\n",
    "\n",
    "$$ I = \\sum{k_i x_i^2} - \\left(\\sum{k}\\right)x_G^2 = 615,13 m^2 - 1,00 \\times (5,55m)^2 = 584,38 m^2 $$"
   ]
  },
  {
   "cell_type": "markdown",
   "id": "16320387",
   "metadata": {},
   "source": [
    "* Os coeficientes de distribuição da força transnversal do vento serão dados por:\n",
    "\n",
    "$$ c_i = k_i\\left[1 + \\left(\\frac{e}{I}x_{Gi}\\right)\\right] $$"
   ]
  },
  {
   "cell_type": "markdown",
   "id": "66217a14",
   "metadata": {},
   "source": [
    "Então, tem-se que:\n",
    "\n",
    "$$ P_1 \\rightarrow c_1 = 0,1870\\left[1 + \\left(\\frac{6,95}{584,38}39,45\\right)\\right] = 0,2747 $$\n",
    "\n",
    "$$ P_2 \\rightarrow c_2 = 0,1593\\left[1 + \\left(\\frac{6,95}{584,38}19,45\\right)\\right] = 0,1962 $$\n",
    "\n",
    "$$ P_3 \\rightarrow c_3 = 0,3112\\left[1 + \\left(\\frac{6,95}{584,38}(-5,55)\\right)\\right] = 0,2907 $$\n",
    "\n",
    "$$ P_4 \\rightarrow c_4 = 0,3425\\left[1 + \\left(\\frac{6,95}{584,38}(-25,55)\\right)\\right] = 0,2384 $$"
   ]
  },
  {
   "cell_type": "markdown",
   "id": "82f60e1e",
   "metadata": {},
   "source": [
    "Logo:\n",
    "\n"
   ]
  }
 ],
 "metadata": {
  "colab": {
   "name": "Capítulo_1.ipynb",
   "provenance": []
  },
  "kernelspec": {
   "display_name": "Python 3 (ipykernel)",
   "language": "python",
   "name": "python3"
  },
  "language_info": {
   "codemirror_mode": {
    "name": "ipython",
    "version": 3
   },
   "file_extension": ".py",
   "mimetype": "text/x-python",
   "name": "python",
   "nbconvert_exporter": "python",
   "pygments_lexer": "ipython3",
   "version": "3.12.0"
  }
 },
 "nbformat": 4,
 "nbformat_minor": 5
}
