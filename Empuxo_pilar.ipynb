{
 "cells": [
  {
   "cell_type": "markdown",
   "metadata": {},
   "source": [
    "# Solução pilar engastado e apoiado sob empuxo de terra"
   ]
  },
  {
   "cell_type": "code",
   "execution_count": 1,
   "metadata": {},
   "outputs": [],
   "source": [
    "import sympy as sp"
   ]
  },
  {
   "cell_type": "code",
   "execution_count": 2,
   "metadata": {},
   "outputs": [],
   "source": [
    "sp.init_printing()"
   ]
  },
  {
   "cell_type": "code",
   "execution_count": 3,
   "metadata": {},
   "outputs": [],
   "source": [
    "from sympy import I, pi, oo\n"
   ]
  },
  {
   "cell_type": "markdown",
   "metadata": {},
   "source": [
    "## 1. Definição das variáveis como simbólicas"
   ]
  },
  {
   "cell_type": "code",
   "execution_count": 4,
   "metadata": {},
   "outputs": [],
   "source": [
    "E_c,I_c,p,a,b,L,M_A,A_y,B_y,x,C_1,C_2,C_3,C_4,E,M,V,theta,y = sp.symbols('E_c,I_c,p,a,b,L,M_A,A_y,B_y,x,C_1,C_2,C_3,C_4,E,M,V,theta,y',positive=True)"
   ]
  },
  {
   "cell_type": "markdown",
   "metadata": {},
   "source": [
    "## 2. Função carga $q(x)$"
   ]
  },
  {
   "cell_type": "code",
   "execution_count": 5,
   "metadata": {},
   "outputs": [
    {
     "data": {
      "image/png": "[encoded data removed]",
      "text/latex": [
       "$\\displaystyle p - \\frac{p x}{a}$"
      ],
      "text/plain": [
       "    p⋅x\n",
       "p - ───\n",
       "     a "
      ]
     },
     "execution_count": 5,
     "metadata": {},
     "output_type": "execute_result"
    }
   ],
   "source": [
    "q_x = p - p/a*x \n",
    "q_x\n"
   ]
  },
  {
   "cell_type": "markdown",
   "metadata": {},
   "source": [
    "## 3. Reações de apoio"
   ]
  },
  {
   "cell_type": "code",
   "execution_count": 6,
   "metadata": {},
   "outputs": [
    {
     "data": {
      "image/png": "[encoded data removed]",
      "text/latex": [
       "$\\displaystyle 0.5 a p$"
      ],
      "text/plain": [
       "0.5⋅a⋅p"
      ]
     },
     "execution_count": 6,
     "metadata": {},
     "output_type": "execute_result"
    }
   ],
   "source": [
    "A_y = 1/2*p*a\n",
    "A_y"
   ]
  },
  {
   "cell_type": "code",
   "execution_count": 7,
   "metadata": {},
   "outputs": [
    {
     "data": {
      "image/png": "[encoded data removed]",
      "text/latex": [
       "$\\displaystyle 0.166666666666667 a^{2} p$"
      ],
      "text/plain": [
       "                   2  \n",
       "0.166666666666667⋅a ⋅p"
      ]
     },
     "execution_count": 7,
     "metadata": {},
     "output_type": "execute_result"
    }
   ],
   "source": [
    "M_A = 1/2*p*a*a/3\n",
    "M_A"
   ]
  },
  {
   "cell_type": "code",
   "execution_count": 8,
   "metadata": {},
   "outputs": [
    {
     "data": {
      "image/png": "[encoded data removed]",
      "text/latex": [
       "$\\displaystyle 0.5 a p$"
      ],
      "text/plain": [
       "0.5⋅a⋅p"
      ]
     },
     "execution_count": 8,
     "metadata": {},
     "output_type": "execute_result"
    }
   ],
   "source": [
    "E = 1/2*p*a\n",
    "E\n"
   ]
  },
  {
   "cell_type": "markdown",
   "metadata": {},
   "source": [
    "## 4. Esforços solicitantes"
   ]
  },
  {
   "cell_type": "markdown",
   "metadata": {},
   "source": [
    "### Esforço cortante $V(x)$ para $x<=a$."
   ]
  },
  {
   "cell_type": "code",
   "execution_count": 9,
   "metadata": {
    "scrolled": true
   },
   "outputs": [
    {
     "data": {
      "image/png": "[encoded data removed]",
      "text/latex": [
       "$\\displaystyle C_{1} - p x + \\frac{p x^{2}}{2 a}$"
      ],
      "text/plain": [
       "              2\n",
       "           p⋅x \n",
       "C₁ - p⋅x + ────\n",
       "           2⋅a "
      ]
     },
     "execution_count": 9,
     "metadata": {},
     "output_type": "execute_result"
    }
   ],
   "source": [
    "V = -sp.integrate(q_x, x) + C_1\n",
    "V"
   ]
  },
  {
   "cell_type": "code",
   "execution_count": 10,
   "metadata": {},
   "outputs": [
    {
     "data": {
      "image/png": "[encoded data removed]",
      "text/latex": [
       "$\\displaystyle 0.5 a p$"
      ],
      "text/plain": [
       "0.5⋅a⋅p"
      ]
     },
     "execution_count": 10,
     "metadata": {},
     "output_type": "execute_result"
    }
   ],
   "source": [
    "C_1 = 1/2*p*a\n",
    "C_1"
   ]
  },
  {
   "cell_type": "code",
   "execution_count": 11,
   "metadata": {},
   "outputs": [
    {
     "data": {
      "image/png": "[encoded data removed]",
      "text/latex": [
       "$\\displaystyle C_{1} - p x + \\frac{p x^{2}}{2 a}$"
      ],
      "text/plain": [
       "              2\n",
       "           p⋅x \n",
       "C₁ - p⋅x + ────\n",
       "           2⋅a "
      ]
     },
     "execution_count": 11,
     "metadata": {},
     "output_type": "execute_result"
    }
   ],
   "source": [
    "V"
   ]
  },
  {
   "cell_type": "markdown",
   "metadata": {},
   "source": [
    "### Momento fletor $M(x)$ para $x<=a$."
   ]
  },
  {
   "cell_type": "code",
   "execution_count": 12,
   "metadata": {},
   "outputs": [
    {
     "data": {
      "image/png": "[encoded data removed]",
      "text/latex": [
       "$\\displaystyle C_{1} x + C_{2} - \\frac{p x^{2}}{2} + \\frac{p x^{3}}{6 a}$"
      ],
      "text/plain": [
       "               2      3\n",
       "            p⋅x    p⋅x \n",
       "C₁⋅x + C₂ - ──── + ────\n",
       "             2     6⋅a "
      ]
     },
     "execution_count": 12,
     "metadata": {},
     "output_type": "execute_result"
    }
   ],
   "source": [
    "M = sp.integrate(V, x) + C_2\n",
    "M"
   ]
  },
  {
   "cell_type": "code",
   "execution_count": 13,
   "metadata": {},
   "outputs": [
    {
     "data": {
      "image/png": "[encoded data removed]",
      "text/latex": [
       "$\\displaystyle - 0.166666666666667 a^{2} p$"
      ],
      "text/plain": [
       "                    2  \n",
       "-0.166666666666667⋅a ⋅p"
      ]
     },
     "execution_count": 13,
     "metadata": {},
     "output_type": "execute_result"
    }
   ],
   "source": [
    "C_2 = -1/2*p*a*a/3\n",
    "C_2\n"
   ]
  },
  {
   "cell_type": "code",
   "execution_count": 14,
   "metadata": {},
   "outputs": [
    {
     "data": {
      "image/png": "[encoded data removed]",
      "text/latex": [
       "$\\displaystyle C_{1} x + C_{2} - \\frac{p x^{2}}{2} + \\frac{p x^{3}}{6 a}$"
      ],
      "text/plain": [
       "               2      3\n",
       "            p⋅x    p⋅x \n",
       "C₁⋅x + C₂ - ──── + ────\n",
       "             2     6⋅a "
      ]
     },
     "execution_count": 14,
     "metadata": {},
     "output_type": "execute_result"
    }
   ],
   "source": [
    "M"
   ]
  },
  {
   "cell_type": "code",
   "execution_count": 15,
   "metadata": {},
   "outputs": [
    {
     "data": {
      "image/png": "[encoded data removed]",
      "text/latex": [
       "$\\displaystyle C_{1} x + C_{2} - \\frac{p x^{2}}{2} + \\frac{p x^{3}}{6 a}$"
      ],
      "text/plain": [
       "               2      3\n",
       "            p⋅x    p⋅x \n",
       "C₁⋅x + C₂ - ──── + ────\n",
       "             2     6⋅a "
      ]
     },
     "execution_count": 15,
     "metadata": {},
     "output_type": "execute_result"
    }
   ],
   "source": [
    "M_x = M.subs({C_1:E, C_2:-E*a/3})\n",
    "M_x"
   ]
  },
  {
   "cell_type": "code",
   "execution_count": 16,
   "metadata": {},
   "outputs": [
    {
     "data": {
      "image/png": "[encoded data removed]",
      "text/latex": [
       "$\\displaystyle C_{1} x + C_{2} - \\frac{p x^{2}}{2} + \\frac{p x^{3}}{6 a}$"
      ],
      "text/plain": [
       "               2      3\n",
       "            p⋅x    p⋅x \n",
       "C₁⋅x + C₂ - ──── + ────\n",
       "             2     6⋅a "
      ]
     },
     "execution_count": 16,
     "metadata": {},
     "output_type": "execute_result"
    }
   ],
   "source": [
    "M_f = M_x.expand(mul=True)\n",
    "M_f"
   ]
  },
  {
   "cell_type": "markdown",
   "metadata": {},
   "source": [
    "## 3. Equação diferencial da linha elástica"
   ]
  },
  {
   "cell_type": "markdown",
   "metadata": {},
   "source": [
    "$$ \\frac{d^2y}{dx^2} = \\frac{M(x)}{E_c I_c}$$"
   ]
  },
  {
   "cell_type": "markdown",
   "metadata": {},
   "source": [
    "### Rotações $\\theta$."
   ]
  },
  {
   "cell_type": "markdown",
   "metadata": {},
   "source": [
    "$$\\theta = \\frac{dy}{dx} = \\frac{1}{E_c I_c} \\int{M(x)dx} + C_3$$"
   ]
  },
  {
   "cell_type": "code",
   "execution_count": 17,
   "metadata": {},
   "outputs": [
    {
     "data": {
      "image/png": "[encoded data removed]",
      "text/latex": [
       "$\\displaystyle \\frac{C_{1} x^{2}}{2} + C_{2} x + C_{3} - \\frac{p x^{3}}{6} + \\frac{p x^{4}}{24 a}$"
      ],
      "text/plain": [
       "    2                  3      4\n",
       "C₁⋅x                p⋅x    p⋅x \n",
       "───── + C₂⋅x + C₃ - ──── + ────\n",
       "  2                  6     24⋅a"
      ]
     },
     "execution_count": 17,
     "metadata": {},
     "output_type": "execute_result"
    }
   ],
   "source": [
    "theta = sp.integrate(M, x) + C_3\n",
    "theta"
   ]
  },
  {
   "cell_type": "code",
   "execution_count": 18,
   "metadata": {},
   "outputs": [
    {
     "data": {
      "image/png": "[encoded data removed]",
      "text/latex": [
       "$\\displaystyle 0.0$"
      ],
      "text/plain": [
       "0.0"
      ]
     },
     "execution_count": 18,
     "metadata": {},
     "output_type": "execute_result"
    }
   ],
   "source": [
    "C_3 = 0.00\n",
    "C_3"
   ]
  },
  {
   "cell_type": "code",
   "execution_count": 19,
   "metadata": {},
   "outputs": [
    {
     "data": {
      "image/png": "[encoded data removed]",
      "text/latex": [
       "$\\displaystyle \\frac{C_{1} x^{2}}{2} + C_{2} x + C_{3} - \\frac{p x^{3}}{6} + \\frac{p x^{4}}{24 a}$"
      ],
      "text/plain": [
       "    2                  3      4\n",
       "C₁⋅x                p⋅x    p⋅x \n",
       "───── + C₂⋅x + C₃ - ──── + ────\n",
       "  2                  6     24⋅a"
      ]
     },
     "execution_count": 19,
     "metadata": {},
     "output_type": "execute_result"
    }
   ],
   "source": [
    "theta"
   ]
  },
  {
   "cell_type": "markdown",
   "metadata": {},
   "source": [
    "### Flecha y"
   ]
  },
  {
   "cell_type": "markdown",
   "metadata": {},
   "source": [
    "$$ y = \\int{\\theta(x)dx} + C_4 $$"
   ]
  },
  {
   "cell_type": "code",
   "execution_count": 20,
   "metadata": {},
   "outputs": [
    {
     "data": {
      "image/png": "[encoded data removed]",
      "text/latex": [
       "$\\displaystyle \\frac{C_{1} x^{3}}{6} + \\frac{C_{2} x^{2}}{2} + C_{3} x + C_{4} - \\frac{p x^{4}}{24} + \\frac{p x^{5}}{120 a}$"
      ],
      "text/plain": [
       "    3       2                  4       5\n",
       "C₁⋅x    C₂⋅x                p⋅x     p⋅x \n",
       "───── + ───── + C₃⋅x + C₄ - ──── + ─────\n",
       "  6       2                  24    120⋅a"
      ]
     },
     "execution_count": 20,
     "metadata": {},
     "output_type": "execute_result"
    }
   ],
   "source": [
    "y = sp.integrate(theta, x) + C_4\n",
    "y"
   ]
  },
  {
   "cell_type": "code",
   "execution_count": 21,
   "metadata": {},
   "outputs": [
    {
     "data": {
      "image/png": "[encoded data removed]",
      "text/latex": [
       "$\\displaystyle 0.0$"
      ],
      "text/plain": [
       "0.0"
      ]
     },
     "execution_count": 21,
     "metadata": {},
     "output_type": "execute_result"
    }
   ],
   "source": [
    "C_4 = 0.00\n",
    "C_4"
   ]
  },
  {
   "cell_type": "code",
   "execution_count": 22,
   "metadata": {},
   "outputs": [
    {
     "data": {
      "image/png": "[encoded data removed]",
      "text/latex": [
       "$\\displaystyle \\frac{C_{1} x^{3}}{6} + \\frac{C_{2} x^{2}}{2} + C_{3} x + C_{4} - \\frac{p x^{4}}{24} + \\frac{p x^{5}}{120 a}$"
      ],
      "text/plain": [
       "    3       2                  4       5\n",
       "C₁⋅x    C₂⋅x                p⋅x     p⋅x \n",
       "───── + ───── + C₃⋅x + C₄ - ──── + ─────\n",
       "  6       2                  24    120⋅a"
      ]
     },
     "execution_count": 22,
     "metadata": {},
     "output_type": "execute_result"
    }
   ],
   "source": [
    "y"
   ]
  },
  {
   "cell_type": "code",
   "execution_count": 24,
   "metadata": {},
   "outputs": [
    {
     "data": {
      "image/png": "[encoded data removed]",
      "text/latex": [
       "$\\displaystyle \\frac{C_{1} a^{3}}{6} + \\frac{C_{2} a^{2}}{2} + C_{3} a + C_{4} - \\frac{a^{4} p}{30}$"
      ],
      "text/plain": [
       "    3       2                4  \n",
       "C₁⋅a    C₂⋅a                a ⋅p\n",
       "───── + ───── + C₃⋅a + C₄ - ────\n",
       "  6       2                  30 "
      ]
     },
     "execution_count": 24,
     "metadata": {},
     "output_type": "execute_result"
    }
   ],
   "source": [
    "ya = y.subs({x:a, C_1:E, C_2:-E*a/3, C_3:0, C_4:0})\n",
    "ya"
   ]
  },
  {
   "cell_type": "code",
   "execution_count": 26,
   "metadata": {},
   "outputs": [
    {
     "data": {
      "image/png": "[encoded data removed]",
      "text/latex": [
       "$\\displaystyle \\frac{C_{1} a^{2}}{2} + C_{2} a + C_{3} - \\frac{a^{3} p}{8}$"
      ],
      "text/plain": [
       "    2                3  \n",
       "C₁⋅a                a ⋅p\n",
       "───── + C₂⋅a + C₃ - ────\n",
       "  2                  8  "
      ]
     },
     "execution_count": 26,
     "metadata": {},
     "output_type": "execute_result"
    }
   ],
   "source": [
    "theta_a = theta.subs({x:a, C_1:E, C_2:-E*a/3, C_3:0, C_4:0 })\n",
    "theta_a"
   ]
  }
 ],
 "metadata": {
  "kernelspec": {
   "display_name": "Python 3.10.4 64-bit",
   "language": "python",
   "name": "python3"
  },
  "language_info": {
   "codemirror_mode": {
    "name": "ipython",
    "version": 3
   },
   "file_extension": ".py",
   "mimetype": "text/x-python",
   "name": "python",
   "nbconvert_exporter": "python",
   "pygments_lexer": "ipython3",
   "version": "3.12.0"
  },
  "vscode": {
   "interpreter": {
    "hash": "c1beacd0366d0e3880472cad7966650a007c4bdda29d5b3f42f24bc65a9634fc"
   }
  }
 },
 "nbformat": 4,
 "nbformat_minor": 2
}
