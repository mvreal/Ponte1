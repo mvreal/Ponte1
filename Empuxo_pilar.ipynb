{
 "cells": [
  {
   "cell_type": "markdown",
   "metadata": {},
   "source": [
    "# Solução pilar engastado e apoiado sob empuxo de terra"
   ]
  },
  {
   "cell_type": "code",
   "execution_count": 27,
   "metadata": {},
   "outputs": [],
   "source": [
    "import sympy as sp"
   ]
  },
  {
   "cell_type": "code",
   "execution_count": 28,
   "metadata": {},
   "outputs": [],
   "source": [
    "sp.init_printing()"
   ]
  },
  {
   "cell_type": "code",
   "execution_count": 29,
   "metadata": {},
   "outputs": [],
   "source": [
    "from sympy import I, pi, oo\n"
   ]
  },
  {
   "cell_type": "markdown",
   "metadata": {},
   "source": [
    "## 1. Definição das variáveis como simbólicas"
   ]
  },
  {
   "cell_type": "code",
   "execution_count": 30,
   "metadata": {},
   "outputs": [],
   "source": [
    "E_c,I_c,p,a,b,L,M_A,A_y,B_y,x,C_1,C_2,C_3,C_4,E,M,V,theta,y = sp.symbols('E_c,I_c,p,a,b,L,M_A,A_y,B_y,x,C_1,C_2,C_3,C_4,E,M,V,theta,y',positive=True)"
   ]
  },
  {
   "cell_type": "markdown",
   "metadata": {},
   "source": [
    "## 2. Função carga $q(x)$"
   ]
  },
  {
   "cell_type": "code",
   "execution_count": 31,
   "metadata": {},
   "outputs": [
    {
     "data": {
      "image/png": "[encoded data removed]",
      "text/latex": [
       "$\\displaystyle p - \\frac{p x}{a}$"
      ],
      "text/plain": [
       "    p⋅x\n",
       "p - ───\n",
       "     a "
      ]
     },
     "execution_count": 31,
     "metadata": {},
     "output_type": "execute_result"
    }
   ],
   "source": [
    "q_x = p - p/a*x \n",
    "q_x\n"
   ]
  },
  {
   "cell_type": "markdown",
   "metadata": {},
   "source": [
    "## 3. Reações de apoio"
   ]
  },
  {
   "cell_type": "code",
   "execution_count": 32,
   "metadata": {},
   "outputs": [
    {
     "data": {
      "image/png": "[encoded data removed]",
      "text/latex": [
       "$\\displaystyle \\frac{a p}{2}$"
      ],
      "text/plain": [
       "a⋅p\n",
       "───\n",
       " 2 "
      ]
     },
     "execution_count": 32,
     "metadata": {},
     "output_type": "execute_result"
    }
   ],
   "source": [
    "A_y = sp.Rational(1,2)*p*a\n",
    "A_y"
   ]
  },
  {
   "cell_type": "code",
   "execution_count": 33,
   "metadata": {},
   "outputs": [
    {
     "data": {
      "image/png": "[encoded data removed]",
      "text/latex": [
       "$\\displaystyle \\frac{a^{2} p}{6}$"
      ],
      "text/plain": [
       " 2  \n",
       "a ⋅p\n",
       "────\n",
       " 6  "
      ]
     },
     "execution_count": 33,
     "metadata": {},
     "output_type": "execute_result"
    }
   ],
   "source": [
    "M_A = sp.Rational(1,6)*p*a**2\n",
    "M_A"
   ]
  },
  {
   "cell_type": "markdown",
   "metadata": {},
   "source": [
    "## 4. Esforços solicitantes"
   ]
  },
  {
   "cell_type": "markdown",
   "metadata": {},
   "source": [
    "### Esforço cortante $V(x)$ para $x<=a$."
   ]
  },
  {
   "cell_type": "code",
   "execution_count": 34,
   "metadata": {
    "scrolled": true
   },
   "outputs": [
    {
     "data": {
      "image/png": "[encoded data removed]",
      "text/latex": [
       "$\\displaystyle C_{1} - p x + \\frac{p x^{2}}{2 a}$"
      ],
      "text/plain": [
       "              2\n",
       "           p⋅x \n",
       "C₁ - p⋅x + ────\n",
       "           2⋅a "
      ]
     },
     "execution_count": 34,
     "metadata": {},
     "output_type": "execute_result"
    }
   ],
   "source": [
    "V = -sp.integrate(q_x, x) + C_1\n",
    "V"
   ]
  },
  {
   "cell_type": "code",
   "execution_count": 35,
   "metadata": {},
   "outputs": [
    {
     "data": {
      "image/png": "[encoded data removed]",
      "text/latex": [
       "$\\displaystyle \\frac{a p}{2} - p x + \\frac{p x^{2}}{2 a}$"
      ],
      "text/plain": [
       "               2\n",
       "a⋅p         p⋅x \n",
       "─── - p⋅x + ────\n",
       " 2          2⋅a "
      ]
     },
     "execution_count": 35,
     "metadata": {},
     "output_type": "execute_result"
    }
   ],
   "source": [
    "V = V.subs({C_1:sp.Rational(1,2)*p*a})\n",
    "V"
   ]
  },
  {
   "cell_type": "markdown",
   "metadata": {},
   "source": [
    "### Momento fletor $M(x)$ para $x<=a$."
   ]
  },
  {
   "cell_type": "code",
   "execution_count": 36,
   "metadata": {},
   "outputs": [
    {
     "data": {
      "image/png": "[encoded data removed]",
      "text/latex": [
       "$\\displaystyle C_{2} + \\frac{a p x}{2} - \\frac{p x^{2}}{2} + \\frac{p x^{3}}{6 a}$"
      ],
      "text/plain": [
       "                2      3\n",
       "     a⋅p⋅x   p⋅x    p⋅x \n",
       "C₂ + ───── - ──── + ────\n",
       "       2      2     6⋅a "
      ]
     },
     "execution_count": 36,
     "metadata": {},
     "output_type": "execute_result"
    }
   ],
   "source": [
    "M = sp.integrate(V, x) + C_2\n",
    "M"
   ]
  },
  {
   "cell_type": "code",
   "execution_count": 37,
   "metadata": {},
   "outputs": [
    {
     "data": {
      "image/png": "[encoded data removed]",
      "text/latex": [
       "$\\displaystyle - \\frac{a^{2} p}{6} + \\frac{a p x}{2} - \\frac{p x^{2}}{2} + \\frac{p x^{3}}{6 a}$"
      ],
      "text/plain": [
       "   2                2      3\n",
       "  a ⋅p   a⋅p⋅x   p⋅x    p⋅x \n",
       "- ──── + ───── - ──── + ────\n",
       "   6       2      2     6⋅a "
      ]
     },
     "execution_count": 37,
     "metadata": {},
     "output_type": "execute_result"
    }
   ],
   "source": [
    "M = M.subs({C_2:-sp.Rational(1,6)*p*a**2})\n",
    "M\n"
   ]
  },
  {
   "cell_type": "markdown",
   "metadata": {},
   "source": [
    "## 3. Equação diferencial da linha elástica"
   ]
  },
  {
   "cell_type": "markdown",
   "metadata": {},
   "source": [
    "$$ \\frac{d^2y}{dx^2} = \\frac{M(x)}{E_c I_c}$$"
   ]
  },
  {
   "cell_type": "markdown",
   "metadata": {},
   "source": [
    "### Rotações $\\theta$."
   ]
  },
  {
   "cell_type": "markdown",
   "metadata": {},
   "source": [
    "$$\\theta = \\frac{dy}{dx} = \\frac{1}{E_c I_c} \\int{M(x)dx} + C_3$$"
   ]
  },
  {
   "cell_type": "code",
   "execution_count": 38,
   "metadata": {},
   "outputs": [
    {
     "data": {
      "image/png": "[encoded data removed]",
      "text/latex": [
       "$\\displaystyle C_{3} - \\frac{a^{2} p x}{6} + \\frac{a p x^{2}}{4} - \\frac{p x^{3}}{6} + \\frac{p x^{4}}{24 a}$"
      ],
      "text/plain": [
       "      2            2      3      4\n",
       "     a ⋅p⋅x   a⋅p⋅x    p⋅x    p⋅x \n",
       "C₃ - ────── + ────── - ──── + ────\n",
       "       6        4       6     24⋅a"
      ]
     },
     "execution_count": 38,
     "metadata": {},
     "output_type": "execute_result"
    }
   ],
   "source": [
    "theta = sp.integrate(M, x) + C_3\n",
    "theta"
   ]
  },
  {
   "cell_type": "code",
   "execution_count": 39,
   "metadata": {},
   "outputs": [
    {
     "data": {
      "image/png": "[encoded data removed]",
      "text/latex": [
       "$\\displaystyle - \\frac{a^{2} p x}{6} + \\frac{a p x^{2}}{4} - \\frac{p x^{3}}{6} + \\frac{p x^{4}}{24 a}$"
      ],
      "text/plain": [
       "   2            2      3      4\n",
       "  a ⋅p⋅x   a⋅p⋅x    p⋅x    p⋅x \n",
       "- ────── + ────── - ──── + ────\n",
       "    6        4       6     24⋅a"
      ]
     },
     "execution_count": 39,
     "metadata": {},
     "output_type": "execute_result"
    }
   ],
   "source": [
    "theta = theta.subs({C_3:0})\n",
    "theta"
   ]
  },
  {
   "cell_type": "code",
   "execution_count": 40,
   "metadata": {},
   "outputs": [
    {
     "data": {
      "image/png": "[encoded data removed]",
      "text/latex": [
       "$\\displaystyle - \\frac{a^{3} p}{24}$"
      ],
      "text/plain": [
       "  3   \n",
       "-a ⋅p \n",
       "──────\n",
       "  24  "
      ]
     },
     "execution_count": 40,
     "metadata": {},
     "output_type": "execute_result"
    }
   ],
   "source": [
    "theta_a = theta.subs({x: a})\n",
    "theta_a"
   ]
  },
  {
   "cell_type": "markdown",
   "metadata": {},
   "source": [
    "### Flecha y"
   ]
  },
  {
   "cell_type": "markdown",
   "metadata": {},
   "source": [
    "$$ y = \\int{\\theta(x)dx} + C_4 $$"
   ]
  },
  {
   "cell_type": "code",
   "execution_count": 41,
   "metadata": {},
   "outputs": [
    {
     "data": {
      "image/png": "[encoded data removed]",
      "text/latex": [
       "$\\displaystyle C_{4} - \\frac{a^{2} p x^{2}}{12} + \\frac{a p x^{3}}{12} - \\frac{p x^{4}}{24} + \\frac{p x^{5}}{120 a}$"
      ],
      "text/plain": [
       "      2    2        3      4       5\n",
       "     a ⋅p⋅x    a⋅p⋅x    p⋅x     p⋅x \n",
       "C₄ - ─────── + ────── - ──── + ─────\n",
       "        12       12      24    120⋅a"
      ]
     },
     "execution_count": 41,
     "metadata": {},
     "output_type": "execute_result"
    }
   ],
   "source": [
    "y = sp.integrate(theta, x) + C_4\n",
    "y"
   ]
  },
  {
   "cell_type": "code",
   "execution_count": 42,
   "metadata": {},
   "outputs": [
    {
     "data": {
      "image/png": "[encoded data removed]",
      "text/latex": [
       "$\\displaystyle - \\frac{a^{2} p x^{2}}{12} + \\frac{a p x^{3}}{12} - \\frac{p x^{4}}{24} + \\frac{p x^{5}}{120 a}$"
      ],
      "text/plain": [
       "   2    2        3      4       5\n",
       "  a ⋅p⋅x    a⋅p⋅x    p⋅x     p⋅x \n",
       "- ─────── + ────── - ──── + ─────\n",
       "     12       12      24    120⋅a"
      ]
     },
     "execution_count": 42,
     "metadata": {},
     "output_type": "execute_result"
    }
   ],
   "source": [
    "y = y.subs({C_4:0})\n",
    "y"
   ]
  },
  {
   "cell_type": "code",
   "execution_count": 43,
   "metadata": {},
   "outputs": [
    {
     "data": {
      "image/png": "[encoded data removed]",
      "text/latex": [
       "$\\displaystyle - \\frac{a^{4} p}{30}$"
      ],
      "text/plain": [
       "  4   \n",
       "-a ⋅p \n",
       "──────\n",
       "  30  "
      ]
     },
     "execution_count": 43,
     "metadata": {},
     "output_type": "execute_result"
    }
   ],
   "source": [
    "y_a = y.subs({x:a})\n",
    "y_a"
   ]
  },
  {
   "cell_type": "markdown",
   "metadata": {},
   "source": [
    "### Flecha na ponta do balanço"
   ]
  },
  {
   "cell_type": "code",
   "execution_count": 44,
   "metadata": {},
   "outputs": [
    {
     "data": {
      "image/png": "[encoded data removed]",
      "text/latex": [
       "$\\displaystyle - \\frac{L a^{3} p}{24} + \\frac{a^{4} p}{120}$"
      ],
      "text/plain": [
       "     3      4  \n",
       "  L⋅a ⋅p   a ⋅p\n",
       "- ────── + ────\n",
       "    24     120 "
      ]
     },
     "execution_count": 44,
     "metadata": {},
     "output_type": "execute_result"
    }
   ],
   "source": [
    "y_L = y_a + theta_a * (L - a)\n",
    "y_L = sp.expand(y_L)\n",
    "y_L"
   ]
  },
  {
   "cell_type": "markdown",
   "metadata": {},
   "source": [
    "## 4. Solução do problema hiperestático\n",
    "\n",
    "### Método das forças\n",
    "\n",
    "$$y_R = y_B(p) + y_B(B_y) = 0$$\n",
    "\n",
    "$$y_B(B_y) = \\frac{1}{3} \\frac{B_y L^3}{E_c I_c}$$"
   ]
  },
  {
   "cell_type": "code",
   "execution_count": 45,
   "metadata": {},
   "outputs": [
    {
     "data": {
      "image/png": "[encoded data removed]",
      "text/latex": [
       "$\\displaystyle \\left[ \\frac{a^{3} p \\left(5 L - a\\right)}{40 L^{3}}\\right]$"
      ],
      "text/plain": [
       "⎡ 3            ⎤\n",
       "⎢a ⋅p⋅(5⋅L - a)⎥\n",
       "⎢──────────────⎥\n",
       "⎢        3     ⎥\n",
       "⎣    40⋅L      ⎦"
      ]
     },
     "execution_count": 45,
     "metadata": {},
     "output_type": "execute_result"
    }
   ],
   "source": [
    "y_By = sp.Rational(1,3) * B_y * L ** 3\n",
    "\n",
    "y_R = y_L + y_By\n",
    "\n",
    "B_R = sp.solve(y_R, B_y)\n",
    "\n",
    "B_R"
   ]
  },
  {
   "cell_type": "code",
   "execution_count": 46,
   "metadata": {},
   "outputs": [
    {
     "data": {
      "image/png": "[encoded data removed]",
      "text/latex": [
       "$\\displaystyle \\frac{a^{3} p \\left(5 L - a\\right)}{40 L^{3}}$"
      ],
      "text/plain": [
       " 3            \n",
       "a ⋅p⋅(5⋅L - a)\n",
       "──────────────\n",
       "        3     \n",
       "    40⋅L      "
      ]
     },
     "execution_count": 46,
     "metadata": {},
     "output_type": "execute_result"
    }
   ],
   "source": [
    "B_y = a**3*p*(5*L-a)/(40*L**3)\n",
    "\n",
    "B_y"
   ]
  },
  {
   "cell_type": "code",
   "execution_count": 47,
   "metadata": {},
   "outputs": [
    {
     "data": {
      "image/png": "[encoded data removed]",
      "text/latex": [
       "$\\displaystyle \\frac{a^{2} p}{6} - \\frac{a^{3} p}{8 L} + \\frac{a^{4} p}{40 L^{2}}$"
      ],
      "text/plain": [
       " 2      3       4  \n",
       "a ⋅p   a ⋅p    a ⋅p\n",
       "──── - ──── + ─────\n",
       " 6     8⋅L        2\n",
       "              40⋅L "
      ]
     },
     "execution_count": 47,
     "metadata": {},
     "output_type": "execute_result"
    }
   ],
   "source": [
    "M_R = sp.Rational(1,6)*p*a**2 - B_y*L\n",
    "\n",
    "M_R = M_R.expand(M_R)\n",
    "\n",
    "M_R\n"
   ]
  },
  {
   "cell_type": "code",
   "execution_count": 48,
   "metadata": {},
   "outputs": [
    {
     "data": {
      "image/png": "[encoded data removed]",
      "text/latex": [
       "$\\displaystyle \\frac{a^{2} p \\left(20 L^{2} - 15 L a + 3 a^{2}\\right)}{120 L^{2}}$"
      ],
      "text/plain": [
       " 2   ⎛    2               2⎞\n",
       "a ⋅p⋅⎝20⋅L  - 15⋅L⋅a + 3⋅a ⎠\n",
       "────────────────────────────\n",
       "                2           \n",
       "           120⋅L            "
      ]
     },
     "execution_count": 48,
     "metadata": {},
     "output_type": "execute_result"
    }
   ],
   "source": [
    "factor = sp.Rational(1,120)*p*a**2/L**2\n",
    "\n",
    "M_R = sp.factor(M_R/factor)*factor\n",
    "\n",
    "M_R"
   ]
  },
  {
   "cell_type": "markdown",
   "metadata": {},
   "source": [
    "### Resultados em termos da força de empuxo\n",
    "\n",
    "$$E = \\frac{1}{2} p a$$"
   ]
  },
  {
   "cell_type": "code",
   "execution_count": 49,
   "metadata": {},
   "outputs": [
    {
     "data": {
      "image/png": "[encoded data removed]",
      "text/latex": [
       "$\\displaystyle \\frac{E a^{2} \\cdot \\left(5 L - a\\right)}{20 L^{3}}$"
      ],
      "text/plain": [
       "   2          \n",
       "E⋅a ⋅(5⋅L - a)\n",
       "──────────────\n",
       "        3     \n",
       "    20⋅L      "
      ]
     },
     "execution_count": 49,
     "metadata": {},
     "output_type": "execute_result"
    }
   ],
   "source": [
    "factor = sp.Rational(1,2)*p*a\n",
    "\n",
    "B_y = B_y/factor*E\n",
    "\n",
    "B_y"
   ]
  },
  {
   "cell_type": "markdown",
   "metadata": {},
   "source": [
    "#### Reação $B_y$\n",
    "\n",
    "$$ B_y = \\frac{E a^2 (5L -a)}{20L^3} $$"
   ]
  },
  {
   "cell_type": "code",
   "execution_count": 50,
   "metadata": {},
   "outputs": [
    {
     "data": {
      "image/png": "[encoded data removed]",
      "text/latex": [
       "$\\displaystyle \\frac{E a \\left(20 L^{2} - 15 L a + 3 a^{2}\\right)}{60 L^{2}}$"
      ],
      "text/plain": [
       "    ⎛    2               2⎞\n",
       "E⋅a⋅⎝20⋅L  - 15⋅L⋅a + 3⋅a ⎠\n",
       "───────────────────────────\n",
       "               2           \n",
       "           60⋅L            "
      ]
     },
     "execution_count": 50,
     "metadata": {},
     "output_type": "execute_result"
    }
   ],
   "source": [
    "factor = sp.Rational(1,6)*p*a**2\n",
    "\n",
    "M_R = M_R/factor*(sp.Rational(1,3)*E*a)\n",
    "\n",
    "M_R"
   ]
  },
  {
   "cell_type": "markdown",
   "metadata": {},
   "source": [
    "#### Momento no engaste $M_A$\n",
    "\n",
    "$$ M_A = \\frac{Ea}{3} \\frac{(20L^2-15La + 3a^2)}{20L^2}$$\n",
    "\n",
    "#### Ou ainda:\n",
    "\n",
    "$$ M_A = \\frac{Ea}{3} \\left( 1.00 - 0.75 \\frac{a}{L} + 0.15 \\frac{a^2}{L^2} \\right)$$"
   ]
  }
 ],
 "metadata": {
  "kernelspec": {
   "display_name": "Python 3.10.4 64-bit",
   "language": "python",
   "name": "python3"
  },
  "language_info": {
   "codemirror_mode": {
    "name": "ipython",
    "version": 3
   },
   "file_extension": ".py",
   "mimetype": "text/x-python",
   "name": "python",
   "nbconvert_exporter": "python",
   "pygments_lexer": "ipython3",
   "version": "3.12.0"
  },
  "vscode": {
   "interpreter": {
    "hash": "c1beacd0366d0e3880472cad7966650a007c4bdda29d5b3f42f24bc65a9634fc"
   }
  }
 },
 "nbformat": 4,
 "nbformat_minor": 2
}
